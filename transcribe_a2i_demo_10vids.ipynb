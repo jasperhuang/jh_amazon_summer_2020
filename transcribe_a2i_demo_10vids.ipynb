{
 "cells": [
  {
   "cell_type": "markdown",
   "metadata": {},
   "source": [
    "# Improving Amazon Transcribe transcriptions using Custom Vocabularies and Amazon Augmented AI (A2I)\n",
    "\n",
    "\n",
    "\n",
    "This notebook accompanies the blog \"Improving Amazon Transcribe transcriptions using Custom Vocabularies and Amazon Augmented AI (A2I)\" (TODO: add link)\n",
    "\n",
    "## Introduction\n",
    "When transcribing speech containing domain-specific terminologies in fields such as legal, financial, construction, higher education, or engineering, Amazon Transcribe’s [custom vocabularies](https://docs.aws.amazon.com/transcribe/latest/dg/how-vocabulary.html) feature can improve transcription quality. \n",
    "\n",
    "To use custom vocabularies with Amazon Transcribe, you need a list of domain-specific terms. If you have a collection of videos or audio files (dataset) that you want transcribed with high accuracy, you can use a portion of your dataset to Amazon Transcribe to assess which terms it has difficulty with (low confidence predictions). You can use Amazon A2I to send these low-confidence predictions directly to a human to review and manually transcribe the terms. This walkthrough will demonstrate how you can process the results obtained from Amazon A2I to quickly to build a custom vocabulary.\n",
    "\n",
    "In summary, in this walkthrough you will:\n",
    "* Send a subset of videos to Amazon Transcribe to find terms that are difficult to transcribe.\n",
    "* Set up a human review workflow using Amazon A2I to send low-confidence predictions to humans for manual review and transcription.\n",
    "* Create a custom vocabulary using the results obtained from human workers.\n",
    "* Test Amazon Transcribe on another subset of videos to asses the improvement in transcription quality. \n",
    "\n",
    "\n",
    "## Prerequisites\n",
    "\n",
    "To run this notebook, you can simply execute each cell in order. To understand what's happening, you'll need:\n",
    "\n",
    "* An S3 bucket you can write to -- please provide its name in BUCKET. The bucket must be in the same region as this SageMaker Notebook instance. You can also change the EXP_NAME to any valid S3 prefix. All the files related to this experiment will be stored in that prefix of your bucket.\n",
    "* Familiarity with the Amazon A2I.\n",
    "* Familiarity with Python and numpy.\n",
    "* Basic familiarity with AWS S3.\n",
    "* Basic understanding of Amazon Transcribe and custom vocabularies. \n",
    "* Basic familiarity with AWS Command Line Interface (CLI) -- ideally, you should have it set up with credentials to access the AWS account you're running this notebook from.\n",
    "\n",
    "This notebook has only been tested on a SageMaker notebook instance. The runtimes given are approximate. We used an ml.t2.medium instance in our tests. However, you can likely run it on a local instance by first executing the cell below on SageMaker and then copying the role string to your local copy of the notebook.\n",
    "\n",
    "For more sample notebooks using A2I, visit this [Github repository](https://github.com/aws-samples/amazon-a2i-sample-jupyter-notebooks).\n",
    "\n",
    "Let's get started!"
   ]
  },
  {
   "cell_type": "markdown",
   "metadata": {},
   "source": [
    "### Install Latest SDKs"
   ]
  },
  {
   "cell_type": "code",
   "execution_count": null,
   "metadata": {},
   "outputs": [],
   "source": [
    "# First, let's get the latest installations of our dependencies\n",
    "!pip install --upgrade pip\n",
    "!pip install boto3 --upgrade\n",
    "!pip install -U botocore"
   ]
  },
  {
   "cell_type": "markdown",
   "metadata": {},
   "source": [
    "### Setup"
   ]
  },
  {
   "cell_type": "code",
   "execution_count": 2,
   "metadata": {},
   "outputs": [],
   "source": [
    "import io\n",
    "import uuid\n",
    "import botocore\n",
    "import boto3\n",
    "import time\n",
    "import pprint\n",
    "import json\n",
    "import sagemaker\n",
    "from sagemaker import get_execution_role\n",
    "from datetime import datetime, timezone\n",
    "\n",
    "# Amazon SageMaker client\n",
    "sagemaker = boto3.client('sagemaker')\n",
    "\n",
    "# Amazon Augment AI (A2I) client\n",
    "a2i = boto3.client('sagemaker-a2i-runtime')\n",
    "\n",
    "# Amazon S3 (S3) client\n",
    "s3 = boto3.client('s3')"
   ]
  },
  {
   "cell_type": "markdown",
   "metadata": {},
   "source": [
    "### Region, Bucket, and Paths\n",
    "Make sure all your resources are stored in the same region. You'll be using the same bucket for this entire walkthrough."
   ]
  },
  {
   "cell_type": "code",
   "execution_count": 3,
   "metadata": {},
   "outputs": [],
   "source": [
    "BUCKET = 'jashuang-sagemaker-5-22'\n",
    "EXP_NAME = '' # Any valid S3 prefix.\n",
    "OUTPUT_PATH = f's3://{BUCKET}/a2i-results'"
   ]
  },
  {
   "cell_type": "code",
   "execution_count": 7,
   "metadata": {},
   "outputs": [
    {
     "ename": "AttributeError",
     "evalue": "'SageMaker' object has no attribute 'session'",
     "output_type": "error",
     "traceback": [
      "\u001b[0;31m---------------------------------------------------------------------------\u001b[0m",
      "\u001b[0;31mAttributeError\u001b[0m                            Traceback (most recent call last)",
      "\u001b[0;32m<ipython-input-7-4efdc89e57ee>\u001b[0m in \u001b[0;36m<module>\u001b[0;34m()\u001b[0m\n\u001b[0;32m----> 1\u001b[0;31m \u001b[0msess\u001b[0m \u001b[0;34m=\u001b[0m \u001b[0msagemaker\u001b[0m\u001b[0;34m.\u001b[0m\u001b[0msession\u001b[0m\u001b[0;34m.\u001b[0m\u001b[0mSession\u001b[0m\u001b[0;34m(\u001b[0m\u001b[0;34m)\u001b[0m\u001b[0;34m\u001b[0m\u001b[0m\n\u001b[0m\u001b[1;32m      2\u001b[0m \u001b[0mrole\u001b[0m \u001b[0;34m=\u001b[0m \u001b[0msagemaker\u001b[0m\u001b[0;34m.\u001b[0m\u001b[0mget_execution_role\u001b[0m\u001b[0;34m(\u001b[0m\u001b[0;34m)\u001b[0m\u001b[0;34m\u001b[0m\u001b[0m\n\u001b[1;32m      3\u001b[0m \u001b[0mregion\u001b[0m \u001b[0;34m=\u001b[0m \u001b[0mboto3\u001b[0m\u001b[0;34m.\u001b[0m\u001b[0msession\u001b[0m\u001b[0;34m.\u001b[0m\u001b[0mSession\u001b[0m\u001b[0;34m(\u001b[0m\u001b[0;34m)\u001b[0m\u001b[0;34m.\u001b[0m\u001b[0mregion_name\u001b[0m\u001b[0;34m\u001b[0m\u001b[0m\n\u001b[1;32m      4\u001b[0m \u001b[0ms3\u001b[0m \u001b[0;34m=\u001b[0m \u001b[0mboto3\u001b[0m\u001b[0;34m.\u001b[0m\u001b[0mclient\u001b[0m\u001b[0;34m(\u001b[0m\u001b[0;34m's3'\u001b[0m\u001b[0;34m)\u001b[0m\u001b[0;34m\u001b[0m\u001b[0m\n\u001b[1;32m      5\u001b[0m \u001b[0mbucket_region\u001b[0m \u001b[0;34m=\u001b[0m \u001b[0ms3\u001b[0m\u001b[0;34m.\u001b[0m\u001b[0mhead_bucket\u001b[0m\u001b[0;34m(\u001b[0m\u001b[0mBucket\u001b[0m\u001b[0;34m=\u001b[0m\u001b[0mBUCKET\u001b[0m\u001b[0;34m)\u001b[0m\u001b[0;34m[\u001b[0m\u001b[0;34m'ResponseMetadata'\u001b[0m\u001b[0;34m]\u001b[0m\u001b[0;34m[\u001b[0m\u001b[0;34m'HTTPHeaders'\u001b[0m\u001b[0;34m]\u001b[0m\u001b[0;34m[\u001b[0m\u001b[0;34m'x-amz-bucket-region'\u001b[0m\u001b[0;34m]\u001b[0m\u001b[0;34m\u001b[0m\u001b[0m\n",
      "\u001b[0;32m~/anaconda3/envs/python3/lib/python3.6/site-packages/botocore/client.py\u001b[0m in \u001b[0;36m__getattr__\u001b[0;34m(self, item)\u001b[0m\n\u001b[1;32m    564\u001b[0m         raise AttributeError(\n\u001b[1;32m    565\u001b[0m             \"'%s' object has no attribute '%s'\" % (\n\u001b[0;32m--> 566\u001b[0;31m                 self.__class__.__name__, item)\n\u001b[0m\u001b[1;32m    567\u001b[0m         )\n\u001b[1;32m    568\u001b[0m \u001b[0;34m\u001b[0m\u001b[0m\n",
      "\u001b[0;31mAttributeError\u001b[0m: 'SageMaker' object has no attribute 'session'"
     ]
    }
   ],
   "source": [
    "sess = sagemaker.session.Session()\n",
    "role = sagemaker.get_execution_role()\n",
    "region = boto3.session.Session().region_name\n",
    "s3 = boto3.client('s3')\n",
    "bucket_region = s3.head_bucket(Bucket=BUCKET)['ResponseMetadata']['HTTPHeaders']['x-amz-bucket-region']\n",
    "assert bucket_region == region, \"Your S3 bucket {} and this notebook need to be in the same region.\".format(BUCKET)"
   ]
  },
  {
   "cell_type": "markdown",
   "metadata": {},
   "source": [
    "### Roles and Permissions"
   ]
  },
  {
   "cell_type": "markdown",
   "metadata": {},
   "source": [
    "Add the following policies to this role in IAM:\n",
    "* AmazonAugmentedAIFullAccess\n",
    "* AmazonTranscribeFullAccess\n",
    "\n",
    "Or you can add a single policy, which will grant permissions to Amazon A2I and all integrated services (Amazon Rekognition and Amazon Transcribe)\n",
    "* AmazonAugmentedAIIntegratedAPIAccess\n",
    "\n",
    "Your execution role has the AmazonSageMakerFullAccess policy attached. This gives Amazon SageMaker permission to access your resources in S3 if the bucket or objects have the word `sagemaker` in the name. If your S3 bucket listed in `BUCKET` does not have sagemaker in the name, you will need to add an S3 policy to your execution role to give your role permissions to access your data objects in S3. The following is an example of an S3 policy:\n",
    "\n",
    "```\n",
    "{\n",
    "    \"Version\": \"2012-10-17\",\n",
    "    \"Statement\": [\n",
    "        {\n",
    "            \"Effect\": \"Allow\",\n",
    "            \"Action\": [\n",
    "                \"s3:GetObject\"\n",
    "            ],\n",
    "            \"Resource\": [\n",
    "                \"arn:aws:s3:::my_input_bucket/*\"\n",
    "            ]\n",
    "        },\n",
    "        {\n",
    "            \"Effect\": \"Allow\",\n",
    "            \"Action\": [\n",
    "                \"s3:PutObject\"\n",
    "            ],\n",
    "            \"Resource\": [\n",
    "                \"arn:aws:s3:::my_output_bucket/*\"\n",
    "            ]\n",
    "        }\n",
    "    ]\n",
    "}\n",
    "```\n"
   ]
  },
  {
   "cell_type": "code",
   "execution_count": 8,
   "metadata": {},
   "outputs": [
    {
     "data": {
      "text/plain": [
       "'arn:aws:iam::688520471316:role/service-role/AmazonSageMaker-ExecutionRole-20200522T134110'"
      ]
     },
     "metadata": {},
     "output_type": "display_data"
    }
   ],
   "source": [
    "from sagemaker import get_execution_role\n",
    "\n",
    "ROLE = get_execution_role()\n",
    "display(ROLE)\n",
    "\n",
    "# role_name = role.split('/')[-1]\n",
    "# print(f'Your execution role name: {role_name}')"
   ]
  },
  {
   "cell_type": "markdown",
   "metadata": {},
   "source": [
    "### Upload Sample Video to S3\n",
    "For this demo, we'll be analyzing an introductory video about SageMaker that's titled \"Fully-Managed Notebook Instances with Amazon SageMaker - a Deep Dive\" and features Emily Webber, an ML Specialist at AWS.\n",
    "\n",
    "TODO: upload the video to a public blog bucket."
   ]
  },
  {
   "cell_type": "code",
   "execution_count": null,
   "metadata": {},
   "outputs": [],
   "source": []
  },
  {
   "cell_type": "markdown",
   "metadata": {},
   "source": [
    "## Step 1: Basic Transcription Job\n",
    "Our first step is to look at the performance of Amazon Transcribe using default parameters and establish a baseline for comparison. Once you have the SageMaker video mp4 file uploaded to an S3 bucket, you can use the transcribe function to start a transcription job. Note that the `vocab_name` parameter will be used later to specify custom vocabularies, and it’s currently defaulted to `None`."
   ]
  },
  {
   "cell_type": "code",
   "execution_count": 34,
   "metadata": {},
   "outputs": [],
   "source": [
    "region='us-west-2'\n",
    "s3 = boto3.client(\"s3\", region)\n",
    "\n",
    "# You can give the transcription job any name.\n",
    "# job_name_1 = \"AWS-sage-1\"\n",
    "\n",
    "job_names = [\n",
    "    \"AWS-sage-vid-1\",\n",
    "    \"AWS-sage-vid-2\",\n",
    "    \"AWS-sage-vid-3\",\n",
    "    \"AWS-sage-vid-4\",\n",
    "    \"AWS-sage-vid-5\",\n",
    "    \"AWS-sage-vid-6\",\n",
    "    \"AWS-sage-vid-7\",\n",
    "    \"AWS-sage-vid-8\",\n",
    "    \"AWS-sage-vid-9\",\n",
    "    \"AWS-sage-vid-10\",\n",
    "]\n",
    "\n",
    "# Audio file path\n",
    "# job_uri_s3 = f\"s3://{BUCKET}/Fully-Managed Notebook Instances with Amazon SageMaker - a Deep Dive.mp4\"\n",
    "\n",
    "# Path to folder\n",
    "folder_path = f\"s3://{BUCKET}/transcribe-bucket/\"\n",
    "\n",
    "all_videos = [\n",
    "             'Fully-Managed Notebook Instances with Amazon SageMaker - a Deep Dive.mp4',\n",
    "             'Built-in Machine Learning Algorithms with Amazon SageMaker - a Deep Dive.mp4',\n",
    "             'Bring Your Own Custom ML Models with Amazon SageMaker.mp4',\n",
    "             'Train Your ML Models Accurately with Amazon SageMaker.mp4',\n",
    "             'Deploy Your ML Models to Production at Scale with Amazon SageMaker.mp4',\n",
    "             'Tune Your ML Models to the Highest Accuracy with Amazon SageMaker Automatic Model Tuning.mp4',\n",
    "             'Scale up Training of Your ML Models with Distributed Training on Amazon SageMaker.mp4',\n",
    "             'Use the Deep Learning Framework of Your Choice with Amazon SageMaker.mp4',\n",
    "             'Learn to Analyze the Co-Relation in Your Datasets Using Feature Engineering with Amazon SageMake.mp4',\n",
    "             'Get Scheduled Predictions on Your ML Models with Amazon SageMaker Batch Transform.mp4'\n",
    "]"
   ]
  },
  {
   "cell_type": "code",
   "execution_count": 31,
   "metadata": {},
   "outputs": [],
   "source": [
    "# Here is a transcribe function\n",
    "def transcribe(job_name, job_uri, out_bucket, format=\"mp4\", vocab_name=None):\n",
    "    \"\"\"Transcribe a .wav or .mp4 file to text.\n",
    "    Args:\n",
    "        job_name (str): the name of the job that you specify;\n",
    "                        the output json will be job_name.json\n",
    "        job_uri (str): input path (in s3) to the file being transcribed\n",
    "        out_bucket (str): s3 bucket name that you want the output json\n",
    "                          to be placed in\n",
    "        format (str): mp4 or wav for input file format;\n",
    "                      defaults to mp4\n",
    "        vocab_name (str): name of custom vocabulary used;\n",
    "                          optional, defaults to None\n",
    "    \"\"\"\n",
    "    \n",
    "    if format not in ['mp3','mp4','wav','flac']:\n",
    "        print(\"Invalid format\")\n",
    "        return\n",
    "\n",
    "    try:\n",
    "        transcribe = boto3.client(\"transcribe\")\n",
    "        print(\"------\" + format)\n",
    "        if vocab_name is None:\n",
    "            transcribe.start_transcription_job(\n",
    "                TranscriptionJobName=job_name,\n",
    "                Media={\"MediaFileUri\": job_uri},\n",
    "                MediaFormat=format,\n",
    "                LanguageCode=\"en-US\",\n",
    "                OutputBucketName=out_bucket,\n",
    "            )\n",
    "        else:\n",
    "            transcribe.start_transcription_job(\n",
    "                TranscriptionJobName=job_name,\n",
    "                Media={\"MediaFileUri\": job_uri},\n",
    "                MediaFormat=format,\n",
    "                LanguageCode=\"en-US\",\n",
    "                OutputBucketName=out_bucket,\n",
    "                Settings={'VocabularyName': vocab_name}\n",
    "            )\n",
    "        \n",
    "        time.sleep(2)\n",
    "        \n",
    "        print(transcribe.get_transcription_job(TranscriptionJobName=job_name))\n",
    "        \n",
    "#         while True:\n",
    "#             status = transcribe.get_transcription_job(TranscriptionJobName=job_name)\n",
    "#             if status['TranscriptionJob']['TranscriptionJobStatus'] in ['COMPLETED', 'FAILED']:\n",
    "#                 break\n",
    "#             print(\"Not ready yet...\")\n",
    "#             time.sleep(5)\n",
    "#         print(status)\n",
    "\n",
    "    except Exception as e:\n",
    "        print(e)"
   ]
  },
  {
   "cell_type": "code",
   "execution_count": 35,
   "metadata": {},
   "outputs": [
    {
     "name": "stdout",
     "output_type": "stream",
     "text": [
      "------mp4\n",
      "{'TranscriptionJob': {'TranscriptionJobName': 'AWS-sage-vid-9', 'TranscriptionJobStatus': 'IN_PROGRESS', 'LanguageCode': 'en-US', 'MediaSampleRateHertz': 44100, 'MediaFormat': 'mp4', 'Media': {'MediaFileUri': 's3://jashuang-sagemaker-5-22/transcribe-bucket/Learn to Analyze the Co-Relation in Your Datasets Using Feature Engineering with Amazon SageMake.mp4'}, 'Transcript': {}, 'StartTime': datetime.datetime(2020, 6, 12, 23, 2, 54, 959000, tzinfo=tzlocal()), 'CreationTime': datetime.datetime(2020, 6, 12, 23, 2, 54, 938000, tzinfo=tzlocal()), 'Settings': {'ChannelIdentification': False, 'ShowAlternatives': False}}, 'ResponseMetadata': {'RequestId': '01aeb419-009d-4903-a314-da966dc46167', 'HTTPStatusCode': 200, 'HTTPHeaders': {'content-type': 'application/x-amz-json-1.1', 'date': 'Fri, 12 Jun 2020 23:02:58 GMT', 'x-amzn-requestid': '01aeb419-009d-4903-a314-da966dc46167', 'content-length': '493', 'connection': 'keep-alive'}, 'RetryAttempts': 0}}\n"
     ]
    }
   ],
   "source": [
    "# Start a transcription job\n",
    "transcribe(job_names[8], folder_path+all_videos[8], BUCKET)"
   ]
  },
  {
   "cell_type": "code",
   "execution_count": 32,
   "metadata": {},
   "outputs": [
    {
     "name": "stdout",
     "output_type": "stream",
     "text": [
      "------mp4\n",
      "{'TranscriptionJob': {'TranscriptionJobName': 'AWS-sage-vid-1', 'TranscriptionJobStatus': 'IN_PROGRESS', 'LanguageCode': 'en-US', 'MediaSampleRateHertz': 44100, 'MediaFormat': 'mp4', 'Media': {'MediaFileUri': 's3://jashuang-sagemaker-5-22/transcribe-bucket/Fully-Managed Notebook Instances with Amazon SageMaker - a Deep Dive.mp4'}, 'Transcript': {}, 'StartTime': datetime.datetime(2020, 6, 12, 23, 0, 39, 114000, tzinfo=tzlocal()), 'CreationTime': datetime.datetime(2020, 6, 12, 23, 0, 39, 91000, tzinfo=tzlocal()), 'Settings': {'ChannelIdentification': False, 'ShowAlternatives': False}}, 'ResponseMetadata': {'RequestId': '5a613cca-5755-434e-9451-a37a5dd47315', 'HTTPStatusCode': 200, 'HTTPHeaders': {'content-type': 'application/x-amz-json-1.1', 'date': 'Fri, 12 Jun 2020 23:00:41 GMT', 'x-amzn-requestid': '5a613cca-5755-434e-9451-a37a5dd47315', 'content-length': '465', 'connection': 'keep-alive'}, 'RetryAttempts': 0}}\n",
      "------mp4\n",
      "{'TranscriptionJob': {'TranscriptionJobName': 'AWS-sage-vid-2', 'TranscriptionJobStatus': 'IN_PROGRESS', 'LanguageCode': 'en-US', 'MediaSampleRateHertz': 44100, 'MediaFormat': 'mp4', 'Media': {'MediaFileUri': 's3://jashuang-sagemaker-5-22/transcribe-bucket/Built-in Machine Learning Algorithms with Amazon SageMaker - a Deep Dive.mp4'}, 'Transcript': {}, 'StartTime': datetime.datetime(2020, 6, 12, 23, 0, 42, 375000, tzinfo=tzlocal()), 'CreationTime': datetime.datetime(2020, 6, 12, 23, 0, 42, 342000, tzinfo=tzlocal()), 'Settings': {'ChannelIdentification': False, 'ShowAlternatives': False}}, 'ResponseMetadata': {'RequestId': '01b5a0ad-d2b2-4d5f-89de-97365414be8d', 'HTTPStatusCode': 200, 'HTTPHeaders': {'content-type': 'application/x-amz-json-1.1', 'date': 'Fri, 12 Jun 2020 23:00:45 GMT', 'x-amzn-requestid': '01b5a0ad-d2b2-4d5f-89de-97365414be8d', 'content-length': '469', 'connection': 'keep-alive'}, 'RetryAttempts': 0}}\n",
      "------mp4\n",
      "{'TranscriptionJob': {'TranscriptionJobName': 'AWS-sage-vid-3', 'TranscriptionJobStatus': 'IN_PROGRESS', 'LanguageCode': 'en-US', 'MediaSampleRateHertz': 44100, 'MediaFormat': 'mp4', 'Media': {'MediaFileUri': 's3://jashuang-sagemaker-5-22/transcribe-bucket/Bring Your Own Custom ML Models with Amazon SageMaker.mp4'}, 'Transcript': {}, 'StartTime': datetime.datetime(2020, 6, 12, 23, 0, 45, 650000, tzinfo=tzlocal()), 'CreationTime': datetime.datetime(2020, 6, 12, 23, 0, 45, 613000, tzinfo=tzlocal()), 'Settings': {'ChannelIdentification': False, 'ShowAlternatives': False}}, 'ResponseMetadata': {'RequestId': '23ef60f4-645e-4268-89a8-15222e953c8a', 'HTTPStatusCode': 200, 'HTTPHeaders': {'content-type': 'application/x-amz-json-1.1', 'date': 'Fri, 12 Jun 2020 23:00:47 GMT', 'x-amzn-requestid': '23ef60f4-645e-4268-89a8-15222e953c8a', 'content-length': '449', 'connection': 'keep-alive'}, 'RetryAttempts': 0}}\n",
      "------mp4\n",
      "{'TranscriptionJob': {'TranscriptionJobName': 'AWS-sage-vid-4', 'TranscriptionJobStatus': 'IN_PROGRESS', 'LanguageCode': 'en-US', 'MediaSampleRateHertz': 44100, 'MediaFormat': 'mp4', 'Media': {'MediaFileUri': 's3://jashuang-sagemaker-5-22/transcribe-bucket/Train Your ML Models Accurately with Amazon SageMaker.mp4'}, 'Transcript': {}, 'StartTime': datetime.datetime(2020, 6, 12, 23, 0, 48, 943000, tzinfo=tzlocal()), 'CreationTime': datetime.datetime(2020, 6, 12, 23, 0, 48, 910000, tzinfo=tzlocal()), 'Settings': {'ChannelIdentification': False, 'ShowAlternatives': False}}, 'ResponseMetadata': {'RequestId': '410ae6aa-36d3-4225-9417-a5c38de8f409', 'HTTPStatusCode': 200, 'HTTPHeaders': {'content-type': 'application/x-amz-json-1.1', 'date': 'Fri, 12 Jun 2020 23:00:51 GMT', 'x-amzn-requestid': '410ae6aa-36d3-4225-9417-a5c38de8f409', 'content-length': '449', 'connection': 'keep-alive'}, 'RetryAttempts': 0}}\n",
      "------mp4\n",
      "{'TranscriptionJob': {'TranscriptionJobName': 'AWS-sage-vid-5', 'TranscriptionJobStatus': 'IN_PROGRESS', 'LanguageCode': 'en-US', 'MediaSampleRateHertz': 44100, 'MediaFormat': 'mp4', 'Media': {'MediaFileUri': 's3://jashuang-sagemaker-5-22/transcribe-bucket/Deploy Your ML Models to Production at Scale with Amazon SageMaker.mp4'}, 'Transcript': {}, 'StartTime': datetime.datetime(2020, 6, 12, 23, 0, 52, 203000, tzinfo=tzlocal()), 'CreationTime': datetime.datetime(2020, 6, 12, 23, 0, 52, 184000, tzinfo=tzlocal()), 'Settings': {'ChannelIdentification': False, 'ShowAlternatives': False}}, 'ResponseMetadata': {'RequestId': '20bd814a-3166-482a-a3b6-834991fbcd96', 'HTTPStatusCode': 200, 'HTTPHeaders': {'content-type': 'application/x-amz-json-1.1', 'date': 'Fri, 12 Jun 2020 23:00:55 GMT', 'x-amzn-requestid': '20bd814a-3166-482a-a3b6-834991fbcd96', 'content-length': '463', 'connection': 'keep-alive'}, 'RetryAttempts': 0}}\n",
      "------mp4\n",
      "{'TranscriptionJob': {'TranscriptionJobName': 'AWS-sage-vid-6', 'TranscriptionJobStatus': 'IN_PROGRESS', 'LanguageCode': 'en-US', 'MediaSampleRateHertz': 44100, 'MediaFormat': 'mp4', 'Media': {'MediaFileUri': 's3://jashuang-sagemaker-5-22/transcribe-bucket/Tune Your ML Models to the Highest Accuracy with Amazon SageMaker Automatic Model Tuning.mp4'}, 'Transcript': {}, 'StartTime': datetime.datetime(2020, 6, 12, 23, 0, 55, 412000, tzinfo=tzlocal()), 'CreationTime': datetime.datetime(2020, 6, 12, 23, 0, 55, 392000, tzinfo=tzlocal()), 'Settings': {'ChannelIdentification': False, 'ShowAlternatives': False}}, 'ResponseMetadata': {'RequestId': '2df6a964-5e1d-4f29-a777-c4b5074bcb1d', 'HTTPStatusCode': 200, 'HTTPHeaders': {'content-type': 'application/x-amz-json-1.1', 'date': 'Fri, 12 Jun 2020 23:00:58 GMT', 'x-amzn-requestid': '2df6a964-5e1d-4f29-a777-c4b5074bcb1d', 'content-length': '485', 'connection': 'keep-alive'}, 'RetryAttempts': 0}}\n",
      "------mp4\n",
      "{'TranscriptionJob': {'TranscriptionJobName': 'AWS-sage-vid-7', 'TranscriptionJobStatus': 'IN_PROGRESS', 'LanguageCode': 'en-US', 'MediaSampleRateHertz': 44100, 'MediaFormat': 'mp4', 'Media': {'MediaFileUri': 's3://jashuang-sagemaker-5-22/transcribe-bucket/Scale up Training of Your ML Models with Distributed Training on Amazon SageMaker.mp4'}, 'Transcript': {}, 'StartTime': datetime.datetime(2020, 6, 12, 23, 0, 58, 619000, tzinfo=tzlocal()), 'CreationTime': datetime.datetime(2020, 6, 12, 23, 0, 58, 599000, tzinfo=tzlocal()), 'Settings': {'ChannelIdentification': False, 'ShowAlternatives': False}}, 'ResponseMetadata': {'RequestId': 'c633bf6a-763e-4841-9c71-aa7b5eab8829', 'HTTPStatusCode': 200, 'HTTPHeaders': {'content-type': 'application/x-amz-json-1.1', 'date': 'Fri, 12 Jun 2020 23:01:01 GMT', 'x-amzn-requestid': 'c633bf6a-763e-4841-9c71-aa7b5eab8829', 'content-length': '478', 'connection': 'keep-alive'}, 'RetryAttempts': 0}}\n",
      "------mp4\n",
      "{'TranscriptionJob': {'TranscriptionJobName': 'AWS-sage-vid-8', 'TranscriptionJobStatus': 'IN_PROGRESS', 'LanguageCode': 'en-US', 'MediaSampleRateHertz': 44100, 'MediaFormat': 'mp4', 'Media': {'MediaFileUri': 's3://jashuang-sagemaker-5-22/transcribe-bucket/Use the Deep Learning Framework of Your Choice with Amazon SageMaker.mp4'}, 'Transcript': {}, 'StartTime': datetime.datetime(2020, 6, 12, 23, 1, 1, 895000, tzinfo=tzlocal()), 'CreationTime': datetime.datetime(2020, 6, 12, 23, 1, 1, 836000, tzinfo=tzlocal()), 'Settings': {'ChannelIdentification': False, 'ShowAlternatives': False}}, 'ResponseMetadata': {'RequestId': 'b221ed22-590d-49ed-b3aa-a348b72fd53a', 'HTTPStatusCode': 200, 'HTTPHeaders': {'content-type': 'application/x-amz-json-1.1', 'date': 'Fri, 12 Jun 2020 23:01:04 GMT', 'x-amzn-requestid': 'b221ed22-590d-49ed-b3aa-a348b72fd53a', 'content-length': '465', 'connection': 'keep-alive'}, 'RetryAttempts': 0}}\n",
      "------mp4\n",
      "An error occurred (BadRequestException) when calling the StartTranscriptionJob operation: The URI that you provided doesn't point to an S3 object. Make sure that the object exists and try your request again.\n",
      "------mp4\n",
      "{'TranscriptionJob': {'TranscriptionJobName': 'AWS-sage-vid-10', 'TranscriptionJobStatus': 'IN_PROGRESS', 'LanguageCode': 'en-US', 'MediaSampleRateHertz': 44100, 'MediaFormat': 'mp4', 'Media': {'MediaFileUri': 's3://jashuang-sagemaker-5-22/transcribe-bucket/Get Scheduled Predictions on Your ML Models with Amazon SageMaker Batch Transform.mp4'}, 'Transcript': {}, 'StartTime': datetime.datetime(2020, 6, 12, 23, 1, 5, 194000, tzinfo=tzlocal()), 'CreationTime': datetime.datetime(2020, 6, 12, 23, 1, 5, 172000, tzinfo=tzlocal()), 'Settings': {'ChannelIdentification': False, 'ShowAlternatives': False}}, 'ResponseMetadata': {'RequestId': '8b5dd07d-7d18-4072-842e-5c252a5be587', 'HTTPStatusCode': 200, 'HTTPHeaders': {'content-type': 'application/x-amz-json-1.1', 'date': 'Fri, 12 Jun 2020 23:01:07 GMT', 'x-amzn-requestid': '8b5dd07d-7d18-4072-842e-5c252a5be587', 'content-length': '479', 'connection': 'keep-alive'}, 'RetryAttempts': 0}}\n"
     ]
    }
   ],
   "source": [
    "for i in range(0,10):\n",
    "    transcribe(job_names[i], folder_path+all_videos[i], BUCKET)"
   ]
  },
  {
   "cell_type": "markdown",
   "metadata": {},
   "source": [
    "### Retrieve and Parse Transcription Results\n",
    "\n",
    "When the transcription job finishes, the results will be stored in your specified S3 bucket as an output JSON file called “YOUR_JOB_NAME.json.” You can use the following function to retrieve your results, and parse them into sentences with time stamps, confidence scores, and other useful representations."
   ]
  },
  {
   "cell_type": "code",
   "execution_count": 37,
   "metadata": {},
   "outputs": [],
   "source": [
    "def get_transcript_text_and_timestamps(bucket_name, file_name):\n",
    "    \"\"\"take json file from S3 bucket and returns a tuple of:\n",
    "       entire transcript, list object of tuples of timestamp and individual sentences\n",
    "    \n",
    "    Args:\n",
    "        bucket_name (str): name of s3 bucket\n",
    "        file_name (str): name of file\n",
    "    Returns:\n",
    "        (\n",
    "        entire_transcript: str,\n",
    "        sentences_and_times: [ {start_time (sec) : float,\n",
    "                                end_time (sec)   : float,\n",
    "                                sentence         : str,\n",
    "                                min_confidence   : float (minimum confidence score of that sentence)\n",
    "                                } ],\n",
    "        confidences:  [ {start_time (sec) : float,\n",
    "                         end_time (sec)   : float,\n",
    "                         content          : str, (single word/phrase)\n",
    "                         confidence       : float (confidence score of the word/phrase)\n",
    "                         } ],\n",
    "        scores: list of confidence scores\n",
    "        )\n",
    "    \"\"\"\n",
    "    s3_clientobj = s3.get_object(Bucket=bucket_name, Key=file_name)\n",
    "    s3_clientdata = s3_clientobj[\"Body\"].read().decode(\"utf-8\")\n",
    "\n",
    "    original = json.loads(s3_clientdata)\n",
    "    items = original[\"results\"][\"items\"]\n",
    "    entire_transcript = original[\"results\"][\"transcripts\"]\n",
    "\n",
    "    sentences_and_times = []\n",
    "    temp_sentence = \"\"\n",
    "    temp_start_time = 0\n",
    "    temp_min_confidence = 1.0\n",
    "    newSentence = True\n",
    "    \n",
    "    confidences = []\n",
    "    scores = []\n",
    "\n",
    "    i = 0\n",
    "    for item in items:\n",
    "        # always add the word\n",
    "        if item[\"type\"] == \"punctuation\":\n",
    "            temp_sentence = (\n",
    "                temp_sentence.strip() + item[\"alternatives\"][0][\"content\"] + \" \"\n",
    "            )\n",
    "        else:\n",
    "            temp_sentence = temp_sentence + item[\"alternatives\"][0][\"content\"] + \" \"\n",
    "            temp_min_confidence = min(temp_min_confidence,\n",
    "                                      float(item[\"alternatives\"][0][\"confidence\"]))\n",
    "            confidences.append({\"start_time\": float(item[\"start_time\"]),\n",
    "                                \"end_time\": float(item[\"end_time\"]),\n",
    "                                \"content\": item[\"alternatives\"][0][\"content\"],\n",
    "                                \"confidence\": float(item[\"alternatives\"][0][\"confidence\"])\n",
    "                               })\n",
    "            scores.append(float(item[\"alternatives\"][0][\"confidence\"]))\n",
    "\n",
    "        # if this is a new sentence, and it starts with a word, save the time\n",
    "        if newSentence == True:\n",
    "            if item[\"type\"] == \"pronunciation\":\n",
    "                temp_start_time = float(item[\"start_time\"])\n",
    "            newSentence = False\n",
    "        # else, keep going until you hit a punctuation\n",
    "        else:\n",
    "            if (\n",
    "                item[\"type\"] == \"punctuation\"\n",
    "                and item[\"alternatives\"][0][\"content\"] != \",\"\n",
    "            ):\n",
    "                # end time of sentence is end_time of previous word\n",
    "                end_time = items[i-1][\"end_time\"] if i-1 >= 0 else items[0][\"end_time\"]\n",
    "                sentences_and_times.append(\n",
    "                    {\"start_time\": temp_start_time,\n",
    "                     \"end_time\": end_time,\n",
    "                     \"sentence\": temp_sentence.strip(),\n",
    "                     \"min_confidence\": temp_min_confidence\n",
    "                    }\n",
    "                )\n",
    "                # reset the temp sentence and relevant variables\n",
    "                newSentence = True\n",
    "                temp_sentence = \"\"\n",
    "                temp_min_confidence = 1.0\n",
    "                \n",
    "        i = i + 1\n",
    "\n",
    "    return entire_transcript, sentences_and_times, confidences, scores"
   ]
  },
  {
   "cell_type": "code",
   "execution_count": 17,
   "metadata": {},
   "outputs": [],
   "source": [
    "entire_transcript_1, sentences_and_times_1, confidences_1, scores_1 = get_transcript_text_and_timestamps(\"jashuang-sagemaker-5-22\",\"AWS-sage-1.json\")"
   ]
  },
  {
   "cell_type": "code",
   "execution_count": 38,
   "metadata": {},
   "outputs": [],
   "source": [
    "all_entire_transcript = []\n",
    "all_sentences_and_times = []\n",
    "all_confidences = []\n",
    "all_scores = []\n",
    "for i in range(0,10):\n",
    "    entire_transcript_1, sentences_and_times_1, confidences_1, scores_1 = get_transcript_text_and_timestamps(\"jashuang-sagemaker-5-22\",job_names[i]+\".json\")\n",
    "    all_entire_transcript.append(entire_transcript_1)\n",
    "    all_sentences_and_times.append(sentences_and_times_1)\n",
    "    all_confidences.append(confidences_1)\n",
    "    all_scores.append(scores_1)"
   ]
  },
  {
   "cell_type": "code",
   "execution_count": 39,
   "metadata": {},
   "outputs": [
    {
     "name": "stdout",
     "output_type": "stream",
     "text": [
      "{'start_time': 0.54, 'end_time': '1.03', 'sentence': 'Hi.', 'min_confidence': 1.0}\n"
     ]
    }
   ],
   "source": [
    "# Sanity check!\n",
    "print(all_sentences_and_times[0][0])"
   ]
  },
  {
   "cell_type": "code",
   "execution_count": 41,
   "metadata": {},
   "outputs": [],
   "source": [
    "flat_scores_list = [item for sublist in all_scores for item in sublist]"
   ]
  },
  {
   "cell_type": "markdown",
   "metadata": {},
   "source": [
    "### Save the first transcript to a txt file\n",
    "Let's save the full transcript, as we'll be using this later for comparisons."
   ]
  },
  {
   "cell_type": "code",
   "execution_count": null,
   "metadata": {},
   "outputs": [],
   "source": [
    "file0 = open(\"originaltranscript.txt\",\"w\") \n",
    "for tup in sentences_and_times_1:\n",
    "    file0.write(tup['sentence'] + \"\\n\") \n",
    "file0.close()"
   ]
  },
  {
   "cell_type": "markdown",
   "metadata": {},
   "source": [
    "### Histogram of confidence scores\n",
    "Let’s take a look at the distribution of confidence scores."
   ]
  },
  {
   "cell_type": "code",
   "execution_count": 18,
   "metadata": {},
   "outputs": [
    {
     "data": {
      "image/png": "[encoded data removed]",
      "text/plain": [
       "<Figure size 432x288 with 1 Axes>"
      ]
     },
     "metadata": {},
     "output_type": "display_data"
    }
   ],
   "source": [
    "from matplotlib import pyplot as plt\n",
    "\n",
    "plt.xlim([min(scores_1)-0.1, max(scores_1)+0.1])\n",
    "plt.hist(scores_1, bins=20, alpha=0.5)\n",
    "plt.title('Plot of confidence scores')\n",
    "plt.xlabel('Confidence score')\n",
    "plt.ylabel('Frequency')\n",
    "\n",
    "plt.show()"
   ]
  },
  {
   "cell_type": "markdown",
   "metadata": {},
   "source": [
    "### Histogram of low confidence scores\n",
    "Let’s filter out the high confidence scores to take a closer look at the lower ones."
   ]
  },
  {
   "cell_type": "code",
   "execution_count": 21,
   "metadata": {},
   "outputs": [],
   "source": [
    "bad_scores = [i for i in scores_1 if i < 0.9]"
   ]
  },
  {
   "cell_type": "code",
   "execution_count": 22,
   "metadata": {},
   "outputs": [
    {
     "data": {
      "image/png": "[encoded data removed]",
      "text/plain": [
       "<Figure size 432x288 with 1 Axes>"
      ]
     },
     "metadata": {},
     "output_type": "display_data"
    }
   ],
   "source": [
    "plt.xlim([min(bad_scores)-0.1, 1.0])\n",
    "plt.hist(bad_scores, bins=20, alpha=0.5)\n",
    "plt.title('Plot of confidence scores less than 0.9')\n",
    "plt.xlabel('Confidence score')\n",
    "plt.ylabel('Frequency')\n",
    "\n",
    "plt.show()"
   ]
  },
  {
   "cell_type": "code",
   "execution_count": 43,
   "metadata": {},
   "outputs": [
    {
     "data": {
      "image/png": "[encoded data removed]",
      "text/plain": [
       "<Figure size 432x288 with 1 Axes>"
      ]
     },
     "metadata": {},
     "output_type": "display_data"
    }
   ],
   "source": [
    "from matplotlib import pyplot as plt\n",
    "\n",
    "plt.xlim([min(flat_scores_list)-0.1, max(flat_scores_list)+0.1])\n",
    "plt.hist(flat_scores_list, bins=20, alpha=0.5)\n",
    "plt.title('Plot of confidence scores')\n",
    "plt.xlabel('Confidence score')\n",
    "plt.ylabel('Frequency')\n",
    "\n",
    "plt.show()"
   ]
  },
  {
   "cell_type": "markdown",
   "metadata": {},
   "source": [
    "We can see that there is a nontrivial number of words classified with low confidence. As we’ll see later, technical terms are more often mis-transcribed, so it’s important that we correct those mistakes."
   ]
  },
  {
   "cell_type": "markdown",
   "metadata": {},
   "source": [
    "## Step 2: Human Review Workflow with A2I\n",
    "\n",
    "Our next step is create a human review workflow that sends low confidence scores to human reviewers and then retrieves the corrected transcription they provide. This section contains the following steps:\n",
    "\n",
    "1. Create a work task template that will be displayed to workers for every task. The template will be rendered with input data you provide, instructions to workers, and interactive tools to help workers complete your tasks.\n",
    "2. Create a human review workflow, also called a flow definition. You use the flow definition to configure details about your human workforce and the human tasks they are assigned.\n",
    "3. Create a human loop to start the human review workflow, sending data for human review as needed. In this example, you use a custom task type and start human loop tasks using the [Amazon A2I Runtime API](https://docs.aws.amazon.com/augmented-ai/2019-11-07/APIReference/Welcome.html). Each time StartHumanLoop is called, a task is sent to human reviewers."
   ]
  },
  {
   "cell_type": "markdown",
   "metadata": {},
   "source": [
    "### Workteam or Workforce\n",
    "\n",
    "\n",
    "A workforce is the group of workers that you have selected to label your dataset. You can choose either the Amazon Mechanical Turk workforce, a vendor-managed workforce, or you can create your own private workforce for human reviews. Whichever workforce type you choose, Amazon Augmented AI takes care of sending tasks to workers.\n",
    "\n",
    "When you use a private workforce, you also create work teams, a group of workers from your workforce that are assigned to Amazon Augmented AI human review tasks. You can have multiple work teams and can assign one or more work teams to each job.\n",
    "\n",
    "To create your Workteam, visit the instructions [here](https://docs.aws.amazon.com/sagemaker/latest/dg/sms-workforce-management.html)\n",
    "\n",
    "After you have created your workteam, replace YOUR_WORKTEAM_ARN below\n"
   ]
  },
  {
   "cell_type": "code",
   "execution_count": 29,
   "metadata": {},
   "outputs": [],
   "source": [
    "WORKTEAM_ARN= \"arn:aws:sagemaker:us-west-2:688520471316:workteam/private-crowd/jashuang-test-workforce\""
   ]
  },
  {
   "cell_type": "markdown",
   "metadata": {},
   "source": [
    "### Clients\n",
    "Let's setup the rest of our clients."
   ]
  },
  {
   "cell_type": "code",
   "execution_count": 26,
   "metadata": {},
   "outputs": [],
   "source": [
    "import io\n",
    "import json\n",
    "import uuid\n",
    "import time\n",
    "import boto3\n",
    "import botocore\n",
    "\n",
    "# Amazon SageMaker client\n",
    "sagemaker = boto3.client('sagemaker', region)\n",
    "\n",
    "# Amazon Augment AI (A2I) client\n",
    "a2i = boto3.client('sagemaker-a2i-runtime')\n",
    "\n",
    "s3 = boto3.client('s3', region)"
   ]
  },
  {
   "cell_type": "markdown",
   "metadata": {},
   "source": [
    "## Create Control Plane Resources\n",
    "Now let's create the resources we'll need to build our human review workflow."
   ]
  },
  {
   "cell_type": "markdown",
   "metadata": {},
   "source": [
    "### Create Human Task UI\n",
    "\n",
    "Amazon A2I uses Liquid, an open-source template language that can be used to “inject” data dynamically into HTML files.\n",
    "\n",
    "In this walkthrough, we want for each task to enable a human reviewer to watch a section of the video and transcribe the speech they hear. The HTML template consists of three main parts:\n",
    "\n",
    "1. A video player with a replay button that only allows the reviewer to play the specific subsection\n",
    "2. A form for the reviewer to type and submit what they hear\n",
    "3. Logic written in JavaScript to give the replay button its intended functionality\n",
    "\n",
    "For over 60 other pre-built UIs, check out this [repository](https://github.com/aws-samples/amazon-a2i-sample-task-uis).\n",
    "\n",
    "Here’s the template you’ll be using:\n"
   ]
  },
  {
   "cell_type": "code",
   "execution_count": 84,
   "metadata": {},
   "outputs": [],
   "source": [
    "template = r\"\"\"\n",
    "<head>\n",
    "    <style>\n",
    "        h1 {\n",
    "            color: black;\n",
    "            font-family: verdana;\n",
    "            font-size: 150%;\n",
    "        }\n",
    "    </style>\n",
    "</head>\n",
    "<script src=\"https://assets.crowd.aws/crowd-html-elements.js\"></script>\n",
    "\n",
    "<crowd-form>\n",
    "    <video id=\"this_vid\">\n",
    "        <source src=\"{{ task.input.audioPath | grant_read_access }}\"\n",
    "            type=\"audio/mp4\">\n",
    "        Your browser does not support the audio element.\n",
    "    </video>\n",
    "    <br />\n",
    "    <br />\n",
    "    <crowd-button onclick=\"onClick(); return false;\"><h1> Click to play video section!</h1></crowd-button> \n",
    "\n",
    "    <h3>Instructions</h3>\n",
    "    <p>Transcribe the audio clip </p>\n",
    "    <p>Ignore \"umms\", \"hmms\", \"uhs\" and other non-textual phrases. </p>\n",
    "    <p>The original transcript is <strong>\"{{ task.input.original_words }}\"</strong>. If the text matches the audio, please retype the same transcription.</p>\n",
    "    <p>Click the space below to start typing.</p>\n",
    "    <crowd-text-area name=\"transcription\" rows=\"2\" label=\"Your transcription\" placeholder=\"Please enter the transcribed text.\"></crowd-text-area>\n",
    "\n",
    "    <full-instructions header=\"Transcription Instructions\">\n",
    "        <h2>Instructions</h2>\n",
    "        <p>Click the play button and listen carefully to the audio clip. Type what you hear in the box\n",
    "            below. Replay the clip by clicking the button again, as many times as needed.</p>\n",
    "    </full-instructions>\n",
    "\n",
    "</crowd-form>\n",
    "\n",
    "<script>\n",
    "    var video = document.getElementById('this_vid');\n",
    "    video.onloadedmetadata = function() {\n",
    "        video.currentTime = {{ task.input.start_time }};\n",
    "    };\n",
    "    function onClick() {\n",
    "        video.pause();\n",
    "        video.currentTime = {{ task.input.start_time }};\n",
    "        video.play();\n",
    "        video.ontimeupdate = function () {\n",
    "            if (video.currentTime >= {{ task.input.end_time }}) {\n",
    "                video.pause()\n",
    "            }\n",
    "        }\n",
    "    }\n",
    "</script>\n",
    "\"\"\"\n",
    "\n",
    "#t={{ task.input.start_time }},{{ task.input.end_time }}\n",
    "\n",
    "def create_task_ui():\n",
    "    '''\n",
    "    Creates a Human Task UI resource.\n",
    "\n",
    "    Returns:\n",
    "    struct: HumanTaskUiArn\n",
    "    '''\n",
    "    response = sagemaker.create_human_task_ui(\n",
    "        HumanTaskUiName=taskUIName,\n",
    "        UiTemplate={'Content': template})\n",
    "    return response"
   ]
  },
  {
   "cell_type": "markdown",
   "metadata": {},
   "source": [
    "The `{{ task.input.audioPath | grant_read_access }}` field allows you to grant access to and display a video using a path to the video’s location in an S3 bucket. To prevent the reviewer from navigating to irrelevant sections of the video, the `controls` parameter is omitted from the video tag and a single replay button is included to control which section can be replayed.\n",
    "\n",
    "Below the video player, the `<crowd-text-area>` HTML tag creates a submission form that your reviewer will use to type and submit.\n",
    "\n",
    "At the end of the HTML snippet, the `<script>` tag contains the logic for the replay button. The `{{ task.input.start_time }}` and `{{ task.input.end_time }}` fields allow you to inject the start and end times of the video subsection you want transcribed for the current task.\n",
    "\n",
    "Now let's create a Human Task UI resource."
   ]
  },
  {
   "cell_type": "code",
   "execution_count": 85,
   "metadata": {},
   "outputs": [
    {
     "name": "stdout",
     "output_type": "stream",
     "text": [
      "arn:aws:sagemaker:us-west-2:688520471316:human-task-ui/ui-transcribe-d87bdcde-2919-4e2f-8ee3-e95d10eb61e8\n"
     ]
    }
   ],
   "source": [
    "# Task UI name - this value is unique per account and region. You can also provide your own value here.\n",
    "taskUIName = 'ui-transcribe-' + str(uuid.uuid4()) \n",
    "\n",
    "# Create task UI\n",
    "humanTaskUiResponse = create_task_ui()\n",
    "humanTaskUiArn = humanTaskUiResponse['HumanTaskUiArn']\n",
    "print(humanTaskUiArn)"
   ]
  },
  {
   "cell_type": "markdown",
   "metadata": {},
   "source": [
    "### Flow Definition\n",
    "\n",
    "In this section, we're going to create a flow definition definition. Flow Definitions allow us to specify:\n",
    "\n",
    "* The workforce that your tasks will be sent to.\n",
    "* The instructions that your workforce will receive. This is called a worker task template.\n",
    "* The configuration of your worker tasks, including the number of workers that receive a task and time limits to complete tasks.\n",
    "* Where your output data will be stored.\n",
    "\n",
    "This demo is going to use the API, but you can optionally create this workflow definition in the console as well.\n",
    "\n",
    "For more details and instructions, see [here](https://docs.aws.amazon.com/sagemaker/latest/dg/a2i-create-flow-definition.html).\n"
   ]
  },
  {
   "cell_type": "code",
   "execution_count": 86,
   "metadata": {},
   "outputs": [],
   "source": [
    "# Flow definition name - this value is unique per account and region. You can also provide your own value here.\n",
    "flowDefinitionName = 'fd-transcribe-demo-' + str(uuid.uuid4()) \n",
    "\n",
    "create_workflow_definition_response = sagemaker.create_flow_definition(\n",
    "        FlowDefinitionName= flowDefinitionName,\n",
    "        RoleArn= ROLE,\n",
    "        HumanLoopConfig= {\n",
    "            \"WorkteamArn\": WORKTEAM_ARN,\n",
    "            \"HumanTaskUiArn\": humanTaskUiArn,\n",
    "            \"TaskCount\": 1,\n",
    "            \"TaskDescription\": \"Identify the word(s) spoken in the provided audio clip\",\n",
    "            \"TaskTitle\": \"Determine Words/Phrases of Audio Clip\"\n",
    "        },\n",
    "        OutputConfig={\n",
    "            \"S3OutputPath\" : OUTPUT_PATH\n",
    "        }\n",
    "    )\n",
    "flowDefinitionArn = create_workflow_definition_response['FlowDefinitionArn'] # let's save this ARN for future use"
   ]
  },
  {
   "cell_type": "code",
   "execution_count": 87,
   "metadata": {},
   "outputs": [
    {
     "name": "stdout",
     "output_type": "stream",
     "text": [
      "Initializing\n",
      "Active\n",
      "Flow Definition is active\n"
     ]
    }
   ],
   "source": [
    "# Describe flow definition - status should be active\n",
    "for x in range(60):\n",
    "    describeFlowDefinitionResponse = sagemaker.describe_flow_definition(FlowDefinitionName=flowDefinitionName)\n",
    "    print(describeFlowDefinitionResponse['FlowDefinitionStatus'])\n",
    "    if (describeFlowDefinitionResponse['FlowDefinitionStatus'] == 'Active'):\n",
    "        print(\"Flow Definition is active\")\n",
    "        break\n",
    "    time.sleep(2)"
   ]
  },
  {
   "cell_type": "markdown",
   "metadata": {},
   "source": [
    "## Human Loops\n",
    "### Sending sequences of words/phrases of low confidence for review\n",
    "After setting up our Flow Definition, we're ready to use Amazon Transcribe and initiate human loops. While iterating through the list of transcribed words and their confidence scores, we create a HumanLoop task whenever the confidence score is below some threshold, `CONFIDENCE_SCORE_THRESHOLD`.\n",
    "\n",
    "An important thing to consider is how do we deal with a low-confidence word that is part of a phrase that was also mis-transcribed? To handle these cases, let’s write a function that gets the sequence of words centered about a given index, and the sequence's starting and ending timestamps:"
   ]
  },
  {
   "cell_type": "code",
   "execution_count": 88,
   "metadata": {},
   "outputs": [],
   "source": [
    "# Use this function to get the words near a word with poor confidence,\n",
    "# since it is possible that the transcription also mis-transcribed nearby words/phrases\n",
    "def get_word_neighbors(words, index):\n",
    "    \"\"\"\n",
    "    gets the words transcribe found at most 3 away from the input index\n",
    "    Returns:\n",
    "        list: words at most 3 away from the input index\n",
    "        int: starting time of the first word in the list\n",
    "        int: ending time of the last word in the list\n",
    "    \"\"\"\n",
    "    i = max(0, index - 3)\n",
    "    j = min(len(words) - 1, index + 3)\n",
    "    return words[i: j + 1], words[i][\"start_time\"], words[j][\"end_time\"]"
   ]
  },
  {
   "cell_type": "markdown",
   "metadata": {},
   "source": [
    "Then, for every word we encounter with low confidence, we send its associated sequence of neighboring words for human review:"
   ]
  },
  {
   "cell_type": "code",
   "execution_count": 89,
   "metadata": {},
   "outputs": [
    {
     "name": "stdout",
     "output_type": "stream",
     "text": [
      "Confidence score of 0.3945 is less than the threshold of 0.4\n",
      "Starting human loop with name: d48932f6-77f3-4128-8346-bee9d86f953e\n",
      "Sending words from times 44.2 to 46.37 to review\n",
      "The original transcription is \"\"show up Under are easy to console \"\" \n",
      "\n",
      "Confidence score of 0.3907 is less than the threshold of 0.4\n",
      "Starting human loop with name: 0a103dfc-cd6f-46c7-bc0f-9b9c6adee01f\n",
      "Sending words from times 69.11 to 72.08 to review\n",
      "The original transcription is \"\"And more cores see is compute optimized \"\" \n",
      "\n",
      "Confidence score of 0.3542 is less than the threshold of 0.4\n",
      "Starting human loop with name: acec9c14-8b0e-4b8b-a8ae-f5d58b7cd52a\n",
      "Sending words from times 89.94 to 92.93 to review\n",
      "The original transcription is \"\"every version of Annecy two instance is \"\" \n",
      "\n",
      "Confidence score of 0.3372 is less than the threshold of 0.4\n",
      "Starting human loop with name: c69c9cde-d258-44aa-a1fb-46a33391d0af\n",
      "Sending words from times 338.43 to 340.78 to review\n",
      "The original transcription is \"\"distributing data sets wanted by putt mode \"\" \n",
      "\n",
      "Confidence score of 0.3615 is less than the threshold of 0.4\n",
      "Starting human loop with name: c454ae13-6740-4d72-bbdc-82a58543ee7f\n",
      "Sending words from times 423.63 to 425.75 to review\n",
      "The original transcription is \"\"onto your EBS volumes And again that's \"\" \n",
      "\n",
      "Confidence score of 0.3643 is less than the threshold of 0.4\n",
      "Starting human loop with name: ba98e3bc-f695-4f15-a4a8-29132259cb11\n",
      "Sending words from times 458.18 to 459.88 to review\n",
      "The original transcription is \"\"of those example No books are open \"\" \n",
      "\n",
      "Confidence score of 0.3504 is less than the threshold of 0.4\n",
      "Starting human loop with name: 1eaf0b01-6170-48fd-987d-5c324cce8d63\n",
      "Sending words from times 481.93 to 483.77 to review\n",
      "The original transcription is \"\"the two main ones markdown is gonna \"\" \n",
      "\n",
      "Confidence score of 0.3874 is less than the threshold of 0.4\n",
      "Starting human loop with name: 03961f35-12b3-4c07-a19e-9b36c1137bcb\n",
      "Sending words from times 571.74 to 574.0 to review\n",
      "The original transcription is \"\"I started using Boto three but I \"\" \n",
      "\n",
      "Confidence score of 0.3771 is less than the threshold of 0.4\n",
      "Starting human loop with name: 7c29f8ae-8eb3-47c5-be04-7a36411c6051\n",
      "Sending words from times 652.86 to 655.61 to review\n",
      "The original transcription is \"\"absolutely upgrade on bits fun because you \"\" \n",
      "\n",
      "Confidence score of 0.331 is less than the threshold of 0.4\n",
      "Starting human loop with name: df6caec6-6c02-4c4e-af7d-3360657c4826\n",
      "Sending words from times 790.94 to 793.04 to review\n",
      "The original transcription is \"\"That's the python Asi que We're getting \"\" \n",
      "\n",
      "Confidence score of 0.3362 is less than the threshold of 0.4\n",
      "Starting human loop with name: 52b138e6-55f2-434e-964d-90cfd87b0d7c\n",
      "Sending words from times 791.15 to 793.16 to review\n",
      "The original transcription is \"\"the python Asi que We're getting our \"\" \n",
      "\n",
      "Confidence score of 0.2884 is less than the threshold of 0.4\n",
      "Starting human loop with name: ac0123be-9427-4912-a75e-3cb2c5a35503\n",
      "Sending words from times 800.84 to 802.63 to review\n",
      "The original transcription is \"\"the Internet s Oh this is from \"\" \n",
      "\n",
      "Confidence score of 0.2656 is less than the threshold of 0.4\n",
      "Starting human loop with name: c0381c9c-75be-442e-954d-9501415af06b\n",
      "Sending words from times 802.17 to 803.78 to review\n",
      "The original transcription is \"\"this is from Sarraf He's the author \"\" \n",
      "\n",
      "Confidence score of 0.2856 is less than the threshold of 0.4\n",
      "Starting human loop with name: 6caabdfb-819c-486d-92a8-b14a58f23750\n",
      "Sending words from times 842.92 to 844.76 to review\n",
      "The original transcription is \"\"right up here then the title of \"\" \n",
      "\n",
      "Confidence score of 0.2963 is less than the threshold of 0.4\n",
      "Starting human loop with name: 43299158-6692-493b-a46c-01ede9b27f44\n",
      "Sending words from times 948.51 to 950.27 to review\n",
      "The original transcription is \"\"but definitely use Lambda to turn your \"\" \n",
      "\n",
      "Confidence score of 0.3291 is less than the threshold of 0.4\n",
      "Starting human loop with name: d29ebe86-257c-4d1f-912e-52b431f63418\n",
      "Sending words from times 972.12 to 974.24 to review\n",
      "The original transcription is \"\"then edit your ec2 instance or the \"\" \n",
      "\n"
     ]
    }
   ],
   "source": [
    "# Sample data, human loop started\n",
    "human_loops_started = []\n",
    "CONFIDENCE_SCORE_THRESHOLD = .4\n",
    "i = 0\n",
    "for obj in confidences_1:\n",
    "    word = obj[\"content\"]\n",
    "    neighbors, start_time, end_time = get_word_neighbors(confidences_1, i)\n",
    "    \n",
    "    # Our condition for when we want to engage a human for review\n",
    "    if (obj[\"confidence\"] < CONFIDENCE_SCORE_THRESHOLD):\n",
    "        \n",
    "        # get the original sequence of words\n",
    "        sequence = \"\"\n",
    "        for block in neighbors:\n",
    "            sequence += block['content'] + \" \"\n",
    "        \n",
    "        humanLoopName = str(uuid.uuid4())\n",
    "        # \"initialValue\": word,\n",
    "        inputContent = {\n",
    "            \"audioPath\": job_uri_s3,\n",
    "            \"start_time\": start_time,\n",
    "            \"end_time\": end_time,\n",
    "            \"original_words\": sequence\n",
    "        }\n",
    "        start_loop_response = a2i.start_human_loop(\n",
    "            HumanLoopName=humanLoopName,\n",
    "            FlowDefinitionArn=flowDefinitionArn,\n",
    "            HumanLoopInput={\n",
    "                \"InputContent\": json.dumps(inputContent)\n",
    "            }\n",
    "        )\n",
    "        human_loops_started.append(humanLoopName)\n",
    "        print(f'Confidence score of {obj[\"confidence\"]} is less than the threshold of {CONFIDENCE_SCORE_THRESHOLD}')\n",
    "        print(f'Starting human loop with name: {humanLoopName}')\n",
    "        print(f'Sending words from times {start_time} to {end_time} to review')\n",
    "        print(f'The original transcription is \"\"{sequence}\"\" \\n')\n",
    "#     else:\n",
    "# #         print(f'SentimentScore of {obj[\"confidence\"]} is above threshold of {CONFIDENCE_SCORE_THRESHOLD}')\n",
    "# #         print('No human loop created. \\n')\n",
    "\n",
    "    i=i+1"
   ]
  },
  {
   "cell_type": "markdown",
   "metadata": {},
   "source": [
    "Let's also save the name of each human loop, in case we need to retrieve them later after shutting down this notebook instance."
   ]
  },
  {
   "cell_type": "code",
   "execution_count": 70,
   "metadata": {},
   "outputs": [],
   "source": [
    "file_hl = open(\"human_loops_names.txt\",\"w\") \n",
    "for name in human_loops_started:\n",
    "    file_hl.write(name + \"\\n\") \n",
    "file_hl.close()"
   ]
  },
  {
   "cell_type": "markdown",
   "metadata": {},
   "source": [
    "### Check Status of Human Loop"
   ]
  },
  {
   "cell_type": "code",
   "execution_count": null,
   "metadata": {},
   "outputs": [],
   "source": [
    "completed_human_loops = []\n",
    "for human_loop_name in human_loops_started:\n",
    "    resp = a2i.describe_human_loop(HumanLoopName=human_loop_name)\n",
    "    print(f'HumanLoop Name: {human_loop_name}')\n",
    "    print(f'HumanLoop Status: {resp[\"HumanLoopStatus\"]}')\n",
    "    print(f'HumanLoop Output Destination: {resp[\"HumanLoopOutput\"]}')\n",
    "    print('\\n')\n",
    "    \n",
    "    if resp[\"HumanLoopStatus\"] == \"Completed\":\n",
    "        completed_human_loops.append(resp)"
   ]
  },
  {
   "cell_type": "markdown",
   "metadata": {},
   "source": [
    "### Wait For Workers to Complete Task\n",
    "We display the link to the private worker portal here for convenience."
   ]
  },
  {
   "cell_type": "code",
   "execution_count": 35,
   "metadata": {},
   "outputs": [
    {
     "name": "stdout",
     "output_type": "stream",
     "text": [
      "Navigate to the private worker portal and do the tasks. Make sure you've invited yourself to your workteam!\n",
      "https://v3t960yxw8.labeling.us-west-2.sagemaker.aws\n"
     ]
    }
   ],
   "source": [
    "# Wait For Workers to Complete Task\n",
    "workteamName = WORKTEAM_ARN[WORKTEAM_ARN.rfind('/') + 1:]\n",
    "print(\"Navigate to the private worker portal and do the tasks. Make sure you've invited yourself to your workteam!\")\n",
    "print('https://' + sagemaker.describe_workteam(WorkteamName=workteamName)['Workteam']['SubDomain'])"
   ]
  },
  {
   "cell_type": "markdown",
   "metadata": {},
   "source": [
    "### Check Status of Human Loop Again"
   ]
  },
  {
   "cell_type": "code",
   "execution_count": 46,
   "metadata": {},
   "outputs": [
    {
     "name": "stdout",
     "output_type": "stream",
     "text": [
      "HumanLoop Name: 0ca4a2c1-858b-4dcf-882b-1c84dad5217f\n",
      "HumanLoop Status: InProgress\n",
      "HumanLoop Output Destination: {'OutputS3Uri': 's3://jashuang-sagemaker-5-22/a2i-results/fd-transcribe-demo-21d6e7b4-9540-4180-ae1b-b7010384f24c/2020/06/04/17/39/49/0ca4a2c1-858b-4dcf-882b-1c84dad5217f/output.json'}\n",
      "\n",
      "\n",
      "HumanLoop Name: e6d41808-0b59-46de-8467-a474ae67fd98\n",
      "HumanLoop Status: InProgress\n",
      "HumanLoop Output Destination: {'OutputS3Uri': 's3://jashuang-sagemaker-5-22/a2i-results/fd-transcribe-demo-21d6e7b4-9540-4180-ae1b-b7010384f24c/2020/06/04/17/39/49/e6d41808-0b59-46de-8467-a474ae67fd98/output.json'}\n",
      "\n",
      "\n",
      "HumanLoop Name: c020e21e-cc2a-4d36-8fb6-e6fd7193dc87\n",
      "HumanLoop Status: Completed\n",
      "HumanLoop Output Destination: {'OutputS3Uri': 's3://jashuang-sagemaker-5-22/a2i-results/fd-transcribe-demo-21d6e7b4-9540-4180-ae1b-b7010384f24c/2020/06/04/17/39/49/c020e21e-cc2a-4d36-8fb6-e6fd7193dc87/output.json'}\n",
      "\n",
      "\n",
      "HumanLoop Name: 8eba603b-8257-4fd9-9c35-d6af84b5bc7b\n",
      "HumanLoop Status: Completed\n",
      "HumanLoop Output Destination: {'OutputS3Uri': 's3://jashuang-sagemaker-5-22/a2i-results/fd-transcribe-demo-21d6e7b4-9540-4180-ae1b-b7010384f24c/2020/06/04/17/39/49/8eba603b-8257-4fd9-9c35-d6af84b5bc7b/output.json'}\n",
      "\n",
      "\n",
      "HumanLoop Name: e5cccccb-2e2b-4a49-b080-22f0b9dd297a\n",
      "HumanLoop Status: InProgress\n",
      "HumanLoop Output Destination: {'OutputS3Uri': 's3://jashuang-sagemaker-5-22/a2i-results/fd-transcribe-demo-21d6e7b4-9540-4180-ae1b-b7010384f24c/2020/06/04/17/39/49/e5cccccb-2e2b-4a49-b080-22f0b9dd297a/output.json'}\n",
      "\n",
      "\n",
      "HumanLoop Name: 7e13bb8c-7909-4687-a74e-8e76d28ebe35\n",
      "HumanLoop Status: InProgress\n",
      "HumanLoop Output Destination: {'OutputS3Uri': 's3://jashuang-sagemaker-5-22/a2i-results/fd-transcribe-demo-21d6e7b4-9540-4180-ae1b-b7010384f24c/2020/06/04/17/39/49/7e13bb8c-7909-4687-a74e-8e76d28ebe35/output.json'}\n",
      "\n",
      "\n",
      "HumanLoop Name: 9962b9c3-867f-4ccf-9e51-00e7c213a343\n",
      "HumanLoop Status: InProgress\n",
      "HumanLoop Output Destination: {'OutputS3Uri': 's3://jashuang-sagemaker-5-22/a2i-results/fd-transcribe-demo-21d6e7b4-9540-4180-ae1b-b7010384f24c/2020/06/04/17/39/50/9962b9c3-867f-4ccf-9e51-00e7c213a343/output.json'}\n",
      "\n",
      "\n",
      "HumanLoop Name: e6f67b07-3790-436d-aade-16b4205ca0a6\n",
      "HumanLoop Status: InProgress\n",
      "HumanLoop Output Destination: {'OutputS3Uri': 's3://jashuang-sagemaker-5-22/a2i-results/fd-transcribe-demo-21d6e7b4-9540-4180-ae1b-b7010384f24c/2020/06/04/17/39/50/e6f67b07-3790-436d-aade-16b4205ca0a6/output.json'}\n",
      "\n",
      "\n",
      "HumanLoop Name: a52baeb5-7746-4caa-aad7-9838d9c9d4c5\n",
      "HumanLoop Status: InProgress\n",
      "HumanLoop Output Destination: {'OutputS3Uri': 's3://jashuang-sagemaker-5-22/a2i-results/fd-transcribe-demo-21d6e7b4-9540-4180-ae1b-b7010384f24c/2020/06/04/17/39/50/a52baeb5-7746-4caa-aad7-9838d9c9d4c5/output.json'}\n",
      "\n",
      "\n",
      "HumanLoop Name: 39e066f2-b5cb-4b4b-9b32-c5e5c3f5c783\n",
      "HumanLoop Status: InProgress\n",
      "HumanLoop Output Destination: {'OutputS3Uri': 's3://jashuang-sagemaker-5-22/a2i-results/fd-transcribe-demo-21d6e7b4-9540-4180-ae1b-b7010384f24c/2020/06/04/17/39/50/39e066f2-b5cb-4b4b-9b32-c5e5c3f5c783/output.json'}\n",
      "\n",
      "\n",
      "HumanLoop Name: c21cb12d-8f2c-4668-8caf-9d198c395644\n",
      "HumanLoop Status: InProgress\n",
      "HumanLoop Output Destination: {'OutputS3Uri': 's3://jashuang-sagemaker-5-22/a2i-results/fd-transcribe-demo-21d6e7b4-9540-4180-ae1b-b7010384f24c/2020/06/04/17/39/50/c21cb12d-8f2c-4668-8caf-9d198c395644/output.json'}\n",
      "\n",
      "\n",
      "HumanLoop Name: 55b79a35-1aea-48d9-a245-10743f2a4b8f\n",
      "HumanLoop Status: InProgress\n",
      "HumanLoop Output Destination: {'OutputS3Uri': 's3://jashuang-sagemaker-5-22/a2i-results/fd-transcribe-demo-21d6e7b4-9540-4180-ae1b-b7010384f24c/2020/06/04/17/39/50/55b79a35-1aea-48d9-a245-10743f2a4b8f/output.json'}\n",
      "\n",
      "\n",
      "HumanLoop Name: b43bd092-ac5a-44c8-9eb2-704aed2fb3e3\n",
      "HumanLoop Status: InProgress\n",
      "HumanLoop Output Destination: {'OutputS3Uri': 's3://jashuang-sagemaker-5-22/a2i-results/fd-transcribe-demo-21d6e7b4-9540-4180-ae1b-b7010384f24c/2020/06/04/17/39/50/b43bd092-ac5a-44c8-9eb2-704aed2fb3e3/output.json'}\n",
      "\n",
      "\n",
      "HumanLoop Name: f10e78ba-a496-4858-8563-181df8ae89e6\n",
      "HumanLoop Status: InProgress\n",
      "HumanLoop Output Destination: {'OutputS3Uri': 's3://jashuang-sagemaker-5-22/a2i-results/fd-transcribe-demo-21d6e7b4-9540-4180-ae1b-b7010384f24c/2020/06/04/17/39/50/f10e78ba-a496-4858-8563-181df8ae89e6/output.json'}\n",
      "\n",
      "\n",
      "HumanLoop Name: 88984479-c6b8-4894-9486-b7857df9541b\n",
      "HumanLoop Status: Completed\n",
      "HumanLoop Output Destination: {'OutputS3Uri': 's3://jashuang-sagemaker-5-22/a2i-results/fd-transcribe-demo-21d6e7b4-9540-4180-ae1b-b7010384f24c/2020/06/04/17/39/51/88984479-c6b8-4894-9486-b7857df9541b/output.json'}\n",
      "\n",
      "\n",
      "HumanLoop Name: 4481b784-cb62-4b25-a43a-5e645e59ed90\n",
      "HumanLoop Status: InProgress\n",
      "HumanLoop Output Destination: {'OutputS3Uri': 's3://jashuang-sagemaker-5-22/a2i-results/fd-transcribe-demo-21d6e7b4-9540-4180-ae1b-b7010384f24c/2020/06/04/17/39/51/4481b784-cb62-4b25-a43a-5e645e59ed90/output.json'}\n",
      "\n",
      "\n"
     ]
    }
   ],
   "source": [
    "completed_human_loops = []\n",
    "for human_loop_name in human_loops_started:\n",
    "    resp = a2i.describe_human_loop(HumanLoopName=human_loop_name)\n",
    "    print(f'HumanLoop Name: {human_loop_name}')\n",
    "    print(f'HumanLoop Status: {resp[\"HumanLoopStatus\"]}')\n",
    "    print(f'HumanLoop Output Destination: {resp[\"HumanLoopOutput\"]}')\n",
    "    print('\\n')\n",
    "    \n",
    "    if resp[\"HumanLoopStatus\"] == \"Completed\":\n",
    "        completed_human_loops.append(resp)\n"
   ]
  },
  {
   "cell_type": "markdown",
   "metadata": {},
   "source": [
    "### View Task Results\n",
    "\n",
    "Once work is completed, Amazon A2I stores results in your S3 bucket and sends a Cloudwatch event. Your results should be available in the S3 `OUTPUT_PATH` when all work is completed."
   ]
  },
  {
   "cell_type": "code",
   "execution_count": 47,
   "metadata": {},
   "outputs": [
    {
     "name": "stdout",
     "output_type": "stream",
     "text": [
      "{   'flowDefinitionArn': 'arn:aws:sagemaker:us-west-2:688520471316:flow-definition/fd-transcribe-demo-21d6e7b4-9540-4180-ae1b-b7010384f24c',\n",
      "    'humanAnswers': [   {   'answerContent': {   'transcription': 'every '\n",
      "                                                                  'version of '\n",
      "                                                                  'an ec2 '\n",
      "                                                                  'instance '\n",
      "                                                                  'is'},\n",
      "                            'submissionTime': '2020-06-04T22:05:56.066Z',\n",
      "                            'workerId': '65bf0cafa9867643',\n",
      "                            'workerMetadata': {   'identityData': {   'identityProviderType': 'Cognito',\n",
      "                                                                      'issuer': 'https://cognito-idp.us-west-2.amazonaws.com/us-west-2_rDB2Sn2uV',\n",
      "                                                                      'sub': 'a56c8c5c-db1e-4380-bb38-0ac4f162ded8'}}}],\n",
      "    'humanLoopName': 'c020e21e-cc2a-4d36-8fb6-e6fd7193dc87',\n",
      "    'inputContent': {   'audioPath': 's3://jashuang-sagemaker-5-22/transcribe-bucket/Fully-Managed '\n",
      "                                     'Notebook Instances with Amazon SageMaker '\n",
      "                                     '- a Deep Dive.mp4',\n",
      "                        'end_time': 92.93,\n",
      "                        'original_words': 'every version of Annecy two '\n",
      "                                          'instance is ',\n",
      "                        'start_time': 89.94}}\n",
      "\n",
      "\n",
      "{   'flowDefinitionArn': 'arn:aws:sagemaker:us-west-2:688520471316:flow-definition/fd-transcribe-demo-21d6e7b4-9540-4180-ae1b-b7010384f24c',\n",
      "    'humanAnswers': [   {   'answerContent': {   'transcription': 'distributing '\n",
      "                                                                  'data sets '\n",
      "                                                                  'what about '\n",
      "                                                                  'pipe mode'},\n",
      "                            'submissionTime': '2020-06-04T18:53:30.539Z',\n",
      "                            'workerId': '65bf0cafa9867643',\n",
      "                            'workerMetadata': {   'identityData': {   'identityProviderType': 'Cognito',\n",
      "                                                                      'issuer': 'https://cognito-idp.us-west-2.amazonaws.com/us-west-2_rDB2Sn2uV',\n",
      "                                                                      'sub': 'a56c8c5c-db1e-4380-bb38-0ac4f162ded8'}}}],\n",
      "    'humanLoopName': '8eba603b-8257-4fd9-9c35-d6af84b5bc7b',\n",
      "    'inputContent': {   'audioPath': 's3://jashuang-sagemaker-5-22/transcribe-bucket/Fully-Managed '\n",
      "                                     'Notebook Instances with Amazon SageMaker '\n",
      "                                     '- a Deep Dive.mp4',\n",
      "                        'end_time': 340.78,\n",
      "                        'original_words': 'distributing data sets wanted by '\n",
      "                                          'putt mode ',\n",
      "                        'start_time': 338.43}}\n",
      "\n",
      "\n",
      "{   'flowDefinitionArn': 'arn:aws:sagemaker:us-west-2:688520471316:flow-definition/fd-transcribe-demo-21d6e7b4-9540-4180-ae1b-b7010384f24c',\n",
      "    'humanAnswers': [   {   'answerContent': {   'transcription': 'but '\n",
      "                                                                  'definitely '\n",
      "                                                                  'use Lambda '\n",
      "                                                                  'to turn '\n",
      "                                                                  'your'},\n",
      "                            'submissionTime': '2020-06-04T18:51:52.548Z',\n",
      "                            'workerId': '65bf0cafa9867643',\n",
      "                            'workerMetadata': {   'identityData': {   'identityProviderType': 'Cognito',\n",
      "                                                                      'issuer': 'https://cognito-idp.us-west-2.amazonaws.com/us-west-2_rDB2Sn2uV',\n",
      "                                                                      'sub': 'a56c8c5c-db1e-4380-bb38-0ac4f162ded8'}}}],\n",
      "    'humanLoopName': '88984479-c6b8-4894-9486-b7857df9541b',\n",
      "    'inputContent': {   'audioPath': 's3://jashuang-sagemaker-5-22/transcribe-bucket/Fully-Managed '\n",
      "                                     'Notebook Instances with Amazon SageMaker '\n",
      "                                     '- a Deep Dive.mp4',\n",
      "                        'end_time': 950.27,\n",
      "                        'original_words': 'but definitely use Lambda to turn '\n",
      "                                          'your ',\n",
      "                        'start_time': 948.51}}\n",
      "\n",
      "\n"
     ]
    }
   ],
   "source": [
    "import re\n",
    "import pprint\n",
    "\n",
    "pp = pprint.PrettyPrinter(indent=4)\n",
    "\n",
    "for resp in completed_human_loops:\n",
    "    splitted_string = re.split('s3://' +  BUCKET + '/', resp['HumanLoopOutput']['OutputS3Uri'])\n",
    "    output_bucket_key = splitted_string[1]\n",
    "\n",
    "    response = s3.get_object(Bucket=BUCKET, Key=output_bucket_key)\n",
    "    content = response[\"Body\"].read()\n",
    "    json_output = json.loads(content)\n",
    "    pp.pprint(json_output)\n",
    "    print('\\n')"
   ]
  },
  {
   "cell_type": "markdown",
   "metadata": {},
   "source": [
    "## Step 3: Custom vocabularies using A2I results\n",
    "\n",
    "Using the corrected transcriptions from our human reviewers, let’s parse through these results to identify the domain-specific terms that we want to add to a custom vocabulary. "
   ]
  },
  {
   "cell_type": "markdown",
   "metadata": {},
   "source": [
    "### Retrieve A2I results\n",
    "To get the technical terms identified by human review, we first accumulate all human-reviewed words into a list."
   ]
  },
  {
   "cell_type": "code",
   "execution_count": 48,
   "metadata": {},
   "outputs": [],
   "source": [
    "corrected_words = []\n",
    "\n",
    "for resp in completed_human_loops:\n",
    "    splitted_string = re.split('s3://' +  BUCKET + '/', resp['HumanLoopOutput']['OutputS3Uri'])\n",
    "    output_bucket_key = splitted_string[1]\n",
    "\n",
    "    response = s3.get_object(Bucket=BUCKET, Key=output_bucket_key)\n",
    "    content = response[\"Body\"].read()\n",
    "    json_output = json.loads(content)\n",
    "    \n",
    "    # add the human-reviewed answers split by spaces\n",
    "    corrected_words += json_output['humanAnswers'][0]['answerContent']['transcription'].split(\" \")"
   ]
  },
  {
   "cell_type": "code",
   "execution_count": 49,
   "metadata": {},
   "outputs": [
    {
     "name": "stdout",
     "output_type": "stream",
     "text": [
      "['every', 'version', 'of', 'an', 'ec2', 'instance', 'is', 'distributing', 'data', 'sets', 'what', 'about', 'pipe', 'mode', 'but', 'definitely', 'use', 'Lambda', 'to', 'turn', 'your']\n"
     ]
    }
   ],
   "source": [
    "print(corrected_words)"
   ]
  },
  {
   "cell_type": "markdown",
   "metadata": {},
   "source": [
    "### Filtering out common English words\n",
    "Now, we want to parse through these words and look for “uncommon” English words. An easy way to do this is to use a large English corpus and verify whether each of our human-reviewed words exists in this corpus:"
   ]
  },
  {
   "cell_type": "code",
   "execution_count": 43,
   "metadata": {},
   "outputs": [
    {
     "name": "stdout",
     "output_type": "stream",
     "text": [
      "[nltk_data] Downloading package words to /home/ec2-user/nltk_data...\n",
      "[nltk_data]   Unzipping corpora/words.zip.\n"
     ]
    }
   ],
   "source": [
    "# Create dictionary of English words\n",
    "# Note that this corpus of words is not 100% exhaustive\n",
    "import nltk\n",
    "nltk.download('words')\n",
    "from nltk.corpus import words\n",
    "my_dict=set(words.words()) "
   ]
  },
  {
   "cell_type": "code",
   "execution_count": 41,
   "metadata": {},
   "outputs": [],
   "source": [
    "# Function for removing contractions\n",
    "# https://en.wikipedia.org/wiki/Wikipedia:List_of_English_contractions\n",
    "contractions = { \n",
    "\"ain't\": \"am not / are not / is not / has not / have not\",\n",
    "\"aren't\": \"are not / am not\",\n",
    "\"can't\": \"cannot\",\n",
    "\"can't've\": \"cannot have\",\n",
    "\"'cause\": \"because\",\n",
    "\"could've\": \"could have\",\n",
    "\"couldn't\": \"could not\",\n",
    "\"couldn't've\": \"could not have\",\n",
    "\"didn't\": \"did not\",\n",
    "\"doesn't\": \"does not\",\n",
    "\"don't\": \"do not\",\n",
    "\"hadn't\": \"had not\",\n",
    "\"hadn't've\": \"had not have\",\n",
    "\"hasn't\": \"has not\",\n",
    "\"haven't\": \"have not\",\n",
    "\"he'd\": \"he had / he would\",\n",
    "\"he'd've\": \"he would have\",\n",
    "\"he'll\": \"he shall / he will\",\n",
    "\"he'll've\": \"he shall have / he will have\",\n",
    "\"he's\": \"he has / he is\",\n",
    "\"how'd\": \"how did\",\n",
    "\"how'd'y\": \"how do you\",\n",
    "\"how'll\": \"how will\",\n",
    "\"how's\": \"how has / how is / how does\",\n",
    "\"I'd\": \"I had / I would\",\n",
    "\"I'd've\": \"I would have\",\n",
    "\"I'll\": \"I shall / I will\",\n",
    "\"I'll've\": \"I shall have / I will have\",\n",
    "\"I'm\": \"I am\",\n",
    "\"I've\": \"I have\",\n",
    "\"isn't\": \"is not\",\n",
    "\"it'd\": \"it had / it would\",\n",
    "\"it'd've\": \"it would have\",\n",
    "\"it'll\": \"it shall / it will\",\n",
    "\"it'll've\": \"it shall have / it will have\",\n",
    "\"it's\": \"it has / it is\",\n",
    "\"let's\": \"let us\",\n",
    "\"ma'am\": \"madam\",\n",
    "\"mayn't\": \"may not\",\n",
    "\"might've\": \"might have\",\n",
    "\"mightn't\": \"might not\",\n",
    "\"mightn't've\": \"might not have\",\n",
    "\"must've\": \"must have\",\n",
    "\"mustn't\": \"must not\",\n",
    "\"mustn't've\": \"must not have\",\n",
    "\"needn't\": \"need not\",\n",
    "\"needn't've\": \"need not have\",\n",
    "\"o'clock\": \"of the clock\",\n",
    "\"oughtn't\": \"ought not\",\n",
    "\"oughtn't've\": \"ought not have\",\n",
    "\"shan't\": \"shall not\",\n",
    "\"sha'n't\": \"shall not\",\n",
    "\"shan't've\": \"shall not have\",\n",
    "\"she'd\": \"she had / she would\",\n",
    "\"she'd've\": \"she would have\",\n",
    "\"she'll\": \"she shall / she will\",\n",
    "\"she'll've\": \"she shall have / she will have\",\n",
    "\"she's\": \"she has / she is\",\n",
    "\"should've\": \"should have\",\n",
    "\"shouldn't\": \"should not\",\n",
    "\"shouldn't've\": \"should not have\",\n",
    "\"so've\": \"so have\",\n",
    "\"so's\": \"so as / so is\",\n",
    "\"that'd\": \"that would / that had\",\n",
    "\"that'd've\": \"that would have\",\n",
    "\"that's\": \"that has / that is\",\n",
    "\"there'd\": \"there had / there would\",\n",
    "\"there'd've\": \"there would have\",\n",
    "\"there's\": \"there has / there is\",\n",
    "\"they'd\": \"they had / they would\",\n",
    "\"they'd've\": \"they would have\",\n",
    "\"they'll\": \"they shall / they will\",\n",
    "\"they'll've\": \"they shall have / they will have\",\n",
    "\"they're\": \"they are\",\n",
    "\"they've\": \"they have\",\n",
    "\"to've\": \"to have\",\n",
    "\"wasn't\": \"was not\",\n",
    "\"we'd\": \"we had / we would\",\n",
    "\"we'd've\": \"we would have\",\n",
    "\"we'll\": \"we will\",\n",
    "\"we'll've\": \"we will have\",\n",
    "\"we're\": \"we are\",\n",
    "\"we've\": \"we have\",\n",
    "\"weren't\": \"were not\",\n",
    "\"what'll\": \"what shall / what will\",\n",
    "\"what'll've\": \"what shall have / what will have\",\n",
    "\"what're\": \"what are\",\n",
    "\"what's\": \"what has / what is\",\n",
    "\"what've\": \"what have\",\n",
    "\"when's\": \"when has / when is\",\n",
    "\"when've\": \"when have\",\n",
    "\"where'd\": \"where did\",\n",
    "\"where's\": \"where has / where is\",\n",
    "\"where've\": \"where have\",\n",
    "\"who'll\": \"who shall / who will\",\n",
    "\"who'll've\": \"who shall have / who will have\",\n",
    "\"who's\": \"who has / who is\",\n",
    "\"who've\": \"who have\",\n",
    "\"why's\": \"why has / why is\",\n",
    "\"why've\": \"why have\",\n",
    "\"will've\": \"will have\",\n",
    "\"won't\": \"will not\",\n",
    "\"won't've\": \"will not have\",\n",
    "\"would've\": \"would have\",\n",
    "\"wouldn't\": \"would not\",\n",
    "\"wouldn't've\": \"would not have\",\n",
    "\"y'all\": \"you all\",\n",
    "\"y'all'd\": \"you all would\",\n",
    "\"y'all'd've\": \"you all would have\",\n",
    "\"y'all're\": \"you all are\",\n",
    "\"y'all've\": \"you all have\",\n",
    "\"you'd\": \"you had / you would\",\n",
    "\"you'd've\": \"you would have\",\n",
    "\"you'll\": \"you shall / you will\",\n",
    "\"you'll've\": \"you shall have / you will have\",\n",
    "\"you're\": \"you are\",\n",
    "\"you've\": \"you have\"\n",
    "}\n",
    "def remove_contractions(word_list):\n",
    "    return [word for word in word_list if word not in contractions]"
   ]
  },
  {
   "cell_type": "markdown",
   "metadata": {},
   "source": [
    "### View Technical/Uncommon Words\n",
    "After removing contractions, human-reviewed words that are not in the English language corpus are likely to be the technical terms we are looking for."
   ]
  },
  {
   "cell_type": "code",
   "execution_count": 50,
   "metadata": {},
   "outputs": [
    {
     "name": "stdout",
     "output_type": "stream",
     "text": [
      "ec2\n",
      "distributing\n",
      "sets\n",
      "Lambda\n"
     ]
    }
   ],
   "source": [
    "for word in remove_contractions(corrected_words):\n",
    "    if word not in my_dict:\n",
    "        print(word)"
   ]
  },
  {
   "cell_type": "markdown",
   "metadata": {},
   "source": [
    "### Create Custom Vocabulary\n",
    "Using the technical terms identified above, we manually created a custom vocabulary of those terms that we want Transcribe to be able to recognize. A custom vocabulary table enables options to tell Amazon Transcribe how each technical term is pronounced and how it should be displayed.\n",
    "\n",
    "More details on how to form a custom vocabulary table can be found [here](https://docs.aws.amazon.com/transcribe/latest/dg/how-vocabulary.html#create-vocabulary-table)."
   ]
  },
  {
   "cell_type": "markdown",
   "metadata": {},
   "source": [
    "Note that as you process additional videos on the same topic, you can keep updating this list, and the number of new technical terms you'll have to add will likely decrease each time you get a new video.\n",
    "\n",
    "TODO: update this list for comprehensive vocab after doing entire video analysis."
   ]
  },
  {
   "cell_type": "code",
   "execution_count": 93,
   "metadata": {},
   "outputs": [],
   "source": [
    "finalized_words=[['Phrase','IPA','SoundsLike','DisplayAs'], # This top line denote the column headers of the text file.\n",
    "                 ['E.C.-Two','','ee-see-too','EC2'],\n",
    "                 ['E.C.-Two-instance','','ee-see-too-in-stunce','EC2 instance'],\n",
    "                 ['lambda','','lam-duh','Lambda'],\n",
    "                 ['S.D.K.','','ess-dee-kay','SDK'],\n",
    "                 ['boto-three','','boe-toe-three','Boto3'],\n",
    "                 ['S.-Three','','ess-three','S3'],\n",
    "                 ['github','','git-hub','Github'],\n",
    "                 ['sagemaker','','sage-may-ker','SageMaker'],\n",
    "                 ['E.B.S.','','ee-bee-ess','EBS'],\n",
    "                 ['G.P.U.','','gee-pee-you','GPU'],\n",
    "                 ['git-repository','','git-ree-paw-zih-tor-ee','Git repository'],\n",
    "                 ['jupyter','','joo-pih-ter','Jupyter'],\n",
    "                 ['kernel','','ker-null','kernel'],\n",
    "                 ['config','','con-fig','config'],\n",
    "                 ['configs','','con-figs','configs'],\n",
    "                 ['D.B.-pedia','','dee-bee-pee-dee-yuh','dbpedia'],\n",
    "                 ['git-clone','','','git clone'],\n",
    "                 ['notebook-instance','','','notebook instance'],\n",
    "                 ['V.P.C.','','','VPC'],\n",
    "                ]"
   ]
  },
  {
   "cell_type": "markdown",
   "metadata": {},
   "source": [
    "### Write the Table to a Txt File"
   ]
  },
  {
   "cell_type": "code",
   "execution_count": null,
   "metadata": {},
   "outputs": [],
   "source": [
    "custom_vocab_file_name = \"customvocab3.txt\"\n",
    "file1 = open(custom_vocab_file,\"w\")\n",
    "template = '{}\\t{}\\t{}\\t{}\\n'\n",
    "for line in finalized_words:\n",
    "    file1.write(template.format(line[0],\n",
    "                                line[1],\n",
    "                                line[2],\n",
    "                                line[3])\n",
    "               )\n",
    "file1.close()"
   ]
  },
  {
   "cell_type": "markdown",
   "metadata": {},
   "source": [
    "### Upload Custom Vocabulary File to S3"
   ]
  },
  {
   "cell_type": "code",
   "execution_count": null,
   "metadata": {},
   "outputs": [],
   "source": [
    "import logging\n",
    "import boto3\n",
    "from botocore.exceptions import ClientError\n",
    "\n",
    "\n",
    "def upload_file(file_name, bucket, object_name=None):\n",
    "    \"\"\"Upload a file to an S3 bucket\n",
    "\n",
    "    :param file_name: File to upload\n",
    "    :param bucket: Bucket to upload to\n",
    "    :param object_name: S3 object name. If not specified then file_name is used\n",
    "    :return: True if file was uploaded, else False\n",
    "    \"\"\"\n",
    "\n",
    "    # If S3 object_name was not specified, use file_name\n",
    "    if object_name is None:\n",
    "        object_name = file_name\n",
    "\n",
    "    # Upload the file\n",
    "    s3_client = boto3.client('s3')\n",
    "    try:\n",
    "        response = s3_client.upload_file(file_name, bucket, object_name)\n",
    "    except ClientError as e:\n",
    "        logging.error(e)\n",
    "        return False\n",
    "    return True"
   ]
  },
  {
   "cell_type": "code",
   "execution_count": null,
   "metadata": {},
   "outputs": [],
   "source": [
    "upload_file(custom_vocab_file_name, BUCKET)"
   ]
  },
  {
   "cell_type": "markdown",
   "metadata": {},
   "source": [
    "### Create the Custom Vocabulary\n",
    "After saving your custom vocabulary table to a text file and uploading it to an S3 bucket, create your custom vocabulary with a specified name so that Amazon Transcribe can use it."
   ]
  },
  {
   "cell_type": "code",
   "execution_count": null,
   "metadata": {},
   "outputs": [],
   "source": [
    "vocab_improved='aws-sagemaker-vocab-4'"
   ]
  },
  {
   "cell_type": "code",
   "execution_count": null,
   "metadata": {},
   "outputs": [],
   "source": [
    "transcribe = boto3.client(\"transcribe\")\n",
    "response = transcribe.create_vocabulary(\n",
    "    VocabularyName=vocab_improved,\n",
    "    LanguageCode='en-US',\n",
    "    VocabularyFileUri='s3://' + BUCKET + '/' + custom_vocab_file_name\n",
    ")"
   ]
  },
  {
   "cell_type": "code",
   "execution_count": null,
   "metadata": {},
   "outputs": [],
   "source": [
    "pp.pprint(response)"
   ]
  },
  {
   "cell_type": "code",
   "execution_count": null,
   "metadata": {},
   "outputs": [],
   "source": [
    "# Get the status of the vocab you created again (must wait until its VocabularyState is READY)\n",
    "response2 = transcribe.get_vocabulary(\n",
    "    VocabularyName=vocab_improved\n",
    ")\n",
    "pp.pprint(response2)"
   ]
  },
  {
   "cell_type": "markdown",
   "metadata": {},
   "source": [
    "## Step 4: Improved Transcription using your Custom Vocabulary\n",
    "\n",
    "### Re-transcribe using the Custom Vocabulary"
   ]
  },
  {
   "cell_type": "code",
   "execution_count": null,
   "metadata": {},
   "outputs": [],
   "source": [
    "# Create another job name\n",
    "job_name_2='AWS-sage-improved-1'"
   ]
  },
  {
   "cell_type": "code",
   "execution_count": null,
   "metadata": {},
   "outputs": [],
   "source": [
    "# Start another transcription job using your custom vocabulary.\n",
    "transcribe(job_name_2, job_uri_s3, BUCKET, vocab_name=vocab_improved)"
   ]
  },
  {
   "cell_type": "code",
   "execution_count": null,
   "metadata": {},
   "outputs": [],
   "source": [
    "entire_transcript_2,sentences_and_times_2, confidences_2, scores_2 = get_transcript_text_and_timestamps(BUCKET,\n",
    "                                                                                                      job_name_2+\".json\")\n",
    "                                                                                                       "
   ]
  },
  {
   "cell_type": "markdown",
   "metadata": {},
   "source": [
    "### Write the Improved Transcript to Txt File"
   ]
  },
  {
   "cell_type": "code",
   "execution_count": null,
   "metadata": {},
   "outputs": [],
   "source": [
    "# save the improved transcript\n",
    "file4 = open(\"improvedtranscript_2.txt\",\"w\") \n",
    "for tup in sentences_and_times_2:\n",
    "    file4.write(tup['sentence'] + \"\\n\") \n",
    "file4.close()"
   ]
  },
  {
   "cell_type": "markdown",
   "metadata": {},
   "source": [
    "By now, we have two transcript versions — one using default parameters and one using our custom vocabulary. To compare these two transcripts, the last thing we need is a “ground truth” transcript, i.e., an answer key. For this demo, we’ve created a ground truth transcript for the first 5 minutes of the SageMaker video, which you can find in the Github repository.\n",
    "\n",
    "### Calculating Word Error Rate (WER)\n",
    "The most common metric for speech recognition accuracy is called word error rate (WER), which can be roughly defined to be the proportion of transcription errors relative to the number of words that were actually said. More details can be found here (https://en.wikipedia.org/wiki/Word_error_rate).\n",
    "\n",
    "We'll be using a lightweight open-source Python library called JiWER for calculating WER between transcripts.\n",
    "\n",
    "For more details, see the open-source [description](https://pypi.org/project/jiwer/)."
   ]
  },
  {
   "cell_type": "code",
   "execution_count": null,
   "metadata": {},
   "outputs": [],
   "source": [
    "!pip install jiwer"
   ]
  },
  {
   "cell_type": "code",
   "execution_count": null,
   "metadata": {},
   "outputs": [],
   "source": [
    "from jiwer import wer\n",
    "import jiwer"
   ]
  },
  {
   "cell_type": "code",
   "execution_count": null,
   "metadata": {},
   "outputs": [],
   "source": [
    "# Small example\n",
    "ground_truth = \"hello world\"\n",
    "hypothesis = \"hello duck\""
   ]
  },
  {
   "cell_type": "code",
   "execution_count": null,
   "metadata": {},
   "outputs": [],
   "source": [
    "wer(ground_truth, hypothesis)"
   ]
  },
  {
   "cell_type": "code",
   "execution_count": null,
   "metadata": {},
   "outputs": [],
   "source": [
    "# Create a transformation function to preprocess transcript\n",
    "transformation = jiwer.Compose([\n",
    "    jiwer.ToLowerCase(),\n",
    "    jiwer.RemoveMultipleSpaces(),\n",
    "    jiwer.RemovePunctuation(),\n",
    "    jiwer.RemoveWhiteSpace(replace_by_space=True),\n",
    "    jiwer.SentencesToListOfWords(),\n",
    "    jiwer.SentencesToListOfWords(word_delimiter=\" \"),\n",
    "    jiwer.RemoveEmptyStrings()\n",
    "]) "
   ]
  },
  {
   "cell_type": "markdown",
   "metadata": {},
   "source": [
    "### Get the original transcript (before applying the custom vocabulary)"
   ]
  },
  {
   "cell_type": "code",
   "execution_count": null,
   "metadata": {},
   "outputs": [],
   "source": [
    "hypothesis_2_original = \"\"\n",
    "f3 = open(\"originaltranscript.txt\", \"r\")\n",
    "for line in f3:\n",
    "    if line.strip() == \"--STOP--\":\n",
    "        break\n",
    "    hypothesis_2_original += (line.strip() + \" \")\n",
    "f3.close()"
   ]
  },
  {
   "cell_type": "markdown",
   "metadata": {},
   "source": [
    "### Get the new transcript (after applying the custom vocabulary)"
   ]
  },
  {
   "cell_type": "code",
   "execution_count": null,
   "metadata": {},
   "outputs": [],
   "source": [
    "hypothesis_2 = \"\"\n",
    "f2 = open(\"improvedtranscript_2.txt\", \"r\")\n",
    "for line in f2:\n",
    "    if line.strip() == \"--STOP--\":\n",
    "        break\n",
    "    hypothesis_2 += (line.strip() + \" \")\n",
    "f2.close()"
   ]
  },
  {
   "cell_type": "markdown",
   "metadata": {},
   "source": [
    "### Get the \"Ground Truth\" transcript"
   ]
  },
  {
   "cell_type": "code",
   "execution_count": null,
   "metadata": {},
   "outputs": [],
   "source": [
    "ground_truth_2 = \"\"\n",
    "f1 = open(\"ground_truth.txt\", \"r\")\n",
    "for line in f1:\n",
    "    if line.strip() == \"--STOP--\":\n",
    "        break\n",
    "    ground_truth_2 += (line.strip() + \" \")\n",
    "f1.close()"
   ]
  },
  {
   "cell_type": "markdown",
   "metadata": {},
   "source": [
    "### Compute Baseline Accuracy"
   ]
  },
  {
   "cell_type": "code",
   "execution_count": null,
   "metadata": {},
   "outputs": [],
   "source": [
    "jiwer.wer(\n",
    "    ground_truth_2, \n",
    "    hypothesis_2_original, \n",
    "    truth_transform=transformation, \n",
    "    hypothesis_transform=transformation\n",
    ")"
   ]
  },
  {
   "cell_type": "markdown",
   "metadata": {},
   "source": [
    "### Compute New Accuracy"
   ]
  },
  {
   "cell_type": "code",
   "execution_count": null,
   "metadata": {},
   "outputs": [],
   "source": [
    "jiwer.wer(\n",
    "    ground_truth_2, \n",
    "    hypothesis_2, \n",
    "    truth_transform=transformation, \n",
    "    hypothesis_transform=transformation\n",
    ")"
   ]
  },
  {
   "cell_type": "markdown",
   "metadata": {},
   "source": [
    "## Discussion\n",
    "\n",
    "For the first 5 minutes of the SageMaker video we used for this demo, the WER decreased from 9.4% to 3.1%, or over 60% improvement.\n",
    "\n",
    "At second glance, the initial WER of 9.4% might already feel sufficiently low — less than 1 in 10 words are mis-transcribed! However, this rate can be misleading, since domain-specific terms are often the least common words spoken (relative to frequent words like “to,” “and,” “I” etc.) but the most commonly mis-transcribed. For applications like search engine optimization (SEO), it could be critical that these technical terms are transcribed correctly. Let’s take a look at how our custom vocabulary impacted the transcription of several important technical terms:\n",
    "\n",
    "TODO: complete full analysis on entire video to update the above metrics and the chart below\n",
    "\n",
    "| Technical Term | Ground Truth mentions | Default Transcript mentions | Custom Vocab Transcript mentions |\n",
    "|----------------|-----------------------|-----------------------------|----------------------------------|\n",
    "| SageMaker      | 7                     | 1 (14%)                     | 7 (100%)                         |\n",
    "| EC2            | 12                    | 0 (0%)                      | 12 (100%)                        |\n",
    "| EBS            | 7                     | 3 (43%)                     | 6 (86%)                          |\n",
    "\n",
    "Now it does look like custom vocabularies were worth the effort!"
   ]
  },
  {
   "cell_type": "markdown",
   "metadata": {},
   "source": [
    "### Cleaning up\n",
    "To avoid incurring unnecessary charges, delete resources when not in use."
   ]
  },
  {
   "cell_type": "markdown",
   "metadata": {},
   "source": [
    "## Recap\n",
    "\n",
    "In this post, we walked through an example of how you can improve transcripts from Amazon Transcribe using custom vocabularies and an Amazon A2I human review workflow. This allows you to quickly identify domain-specific terms using your own private workforce and review workflows, and use these terms to build a custom vocabulary so that future mentions of term are transcribed with greater accuracy, at scale. Transcribing key technical terms correctly can be important for doing SEO, enabling highly specific textual queries, and grouping large quantities of video or audio files by technical terms.\n",
    "\n",
    "The full proof-of-concept Jupyter notebook can be found at this Github repository. Check out other blog posts covering integrations of Amazon A2I, such as [Using Amazon Textract with Amazon Augmented AI for processing critical documents](https://aws.amazon.com/blogs/machine-learning/using-amazon-textract-with-amazon-augmented-ai-for-processing-critical-documents/) and [Designing human review workflows with Amazon Translate and Amazon Augmented AI](https://aws.amazon.com/blogs/machine-learning/designing-human-review-workflows-with-amazon-translate-and-amazon-augmented-ai/).\n"
   ]
  },
  {
   "cell_type": "markdown",
   "metadata": {},
   "source": [
    "## The End!\n",
    "For a more detailed discussion with visuals, check out the accompanying blog post."
   ]
  },
  {
   "cell_type": "code",
   "execution_count": null,
   "metadata": {},
   "outputs": [],
   "source": []
  }
 ],
 "metadata": {
  "kernelspec": {
   "display_name": "conda_python3",
   "language": "python",
   "name": "conda_python3"
  },
  "language_info": {
   "codemirror_mode": {
    "name": "ipython",
    "version": 3
   },
   "file_extension": ".py",
   "mimetype": "text/x-python",
   "name": "python",
   "nbconvert_exporter": "python",
   "pygments_lexer": "ipython3",
   "version": "3.6.5"
  }
 },
 "nbformat": 4,
 "nbformat_minor": 4
}
